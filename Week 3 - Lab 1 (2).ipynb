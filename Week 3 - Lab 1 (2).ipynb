{
 "cells": [
  {
   "cell_type": "markdown",
   "id": "370fa14a",
   "metadata": {},
   "source": [
    "# Loops"
   ]
  },
  {
   "cell_type": "code",
   "execution_count": 1,
   "id": "1b42b634",
   "metadata": {},
   "outputs": [
    {
     "name": "stdout",
     "output_type": "stream",
     "text": [
      "Max iterations: 8\n",
      "1\n",
      "2\n",
      "3\n",
      "4\n",
      "5\n",
      "6\n",
      "7\n",
      "8\n",
      "Done\n"
     ]
    }
   ],
   "source": [
    "# simple while loop\n",
    "\n",
    "n = int(input(\"Max iterations: \"))\n",
    "i = 1\n",
    "while i<=n:\n",
    "    print(i)\n",
    "    i += 1  # i = i+1\n",
    "print(\"Done\")"
   ]
  },
  {
   "cell_type": "code",
   "execution_count": 2,
   "id": "06ac31b5",
   "metadata": {},
   "outputs": [
    {
     "name": "stdout",
     "output_type": "stream",
     "text": [
      "8\n",
      "1\n",
      "This is iteration no:  1\n",
      "4\n",
      "This is iteration no:  2\n",
      "9\n",
      "This is iteration no:  3\n",
      "16\n",
      "This is iteration no:  4\n",
      "25\n",
      "This is iteration no:  5\n",
      "36\n",
      "This is iteration no:  6\n",
      "49\n",
      "This is iteration no:  7\n",
      "Done\n"
     ]
    }
   ],
   "source": [
    "n = int(input())\n",
    "i = 1\n",
    "while i<n:\n",
    "    print(i**2)\n",
    "    print(\"This is iteration no: \", i)\n",
    "    i = i + 1  # i +=1\n",
    "print(\"Done\")"
   ]
  },
  {
   "cell_type": "code",
   "execution_count": 3,
   "id": "3b84cc97",
   "metadata": {},
   "outputs": [
    {
     "name": "stdout",
     "output_type": "stream",
     "text": [
      "20\n",
      "1\n",
      "3\n",
      "5\n",
      "7\n",
      "9\n",
      "11\n",
      "13\n",
      "15\n",
      "17\n",
      "19\n"
     ]
    }
   ],
   "source": [
    "# use if condition with while loop\n",
    "#print odd nos uptil the nth number\n",
    "\n",
    "n = int(input())\n",
    "i = 1\n",
    "while i<n:\n",
    "    if i%2 != 0:\n",
    "        print(i)\n",
    "    else:\n",
    "        pass #do nothing\n",
    "    i = i + 1"
   ]
  },
  {
   "cell_type": "code",
   "execution_count": 4,
   "id": "44fa73a8",
   "metadata": {},
   "outputs": [
    {
     "name": "stdout",
     "output_type": "stream",
     "text": [
      "30\n",
      "2\n",
      "4\n",
      "6\n",
      "8\n",
      "10\n",
      "12\n",
      "14\n",
      "16\n",
      "18\n",
      "20\n",
      "22\n",
      "24\n",
      "26\n",
      "28\n"
     ]
    }
   ],
   "source": [
    "# Above program printed odds not even, So wirting this program to print even\n",
    "# use if condition with while loop\n",
    "#print odd nos uptil the nth number\n",
    "\n",
    "n = int(input())\n",
    "i = 1\n",
    "while i<n:\n",
    "    if i%2 == 0:\n",
    "        print(i)\n",
    "    else:\n",
    "        pass #do nothing\n",
    "    i = i + 1"
   ]
  },
  {
   "cell_type": "code",
   "execution_count": 5,
   "id": "d03d0e07",
   "metadata": {},
   "outputs": [
    {
     "name": "stdout",
     "output_type": "stream",
     "text": [
      "Inside else\n",
      "Inside else\n",
      "Inside else\n",
      "Inside else\n",
      "Inside else\n",
      "Inside else\n",
      "Inside else\n",
      "Inside else\n",
      "Inside if\n",
      "Done\n"
     ]
    }
   ],
   "source": [
    "# break statemnt\n",
    "\n",
    "i = 1\n",
    "\n",
    "while True:  #infinite loop since while always returns true\n",
    "    if i%9 == 0:\n",
    "        print(\"Inside if\")\n",
    "        break \n",
    "    else:\n",
    "        print(\"Inside else\")\n",
    "        i = i+1\n",
    "   \n",
    "print(\"Done\")\n",
    "    "
   ]
  },
  {
   "cell_type": "code",
   "execution_count": 6,
   "id": "d52add72",
   "metadata": {},
   "outputs": [
    {
     "name": "stdout",
     "output_type": "stream",
     "text": [
      "1\n",
      "2\n",
      "4\n",
      "5\n"
     ]
    }
   ],
   "source": [
    "# use of continue\n",
    "\n",
    "x = 1\n",
    "while x <= 5:\n",
    "    if x==3:\n",
    "        x = x+1\n",
    "        continue\n",
    " \n",
    "    else:\n",
    "        print(x)\n",
    "        x = x + 1\n",
    "        "
   ]
  },
  {
   "cell_type": "code",
   "execution_count": 2,
   "id": "f11aae33",
   "metadata": {},
   "outputs": [
    {
     "name": "stdout",
     "output_type": "stream",
     "text": [
      "Inside if\n",
      "Inside if\n",
      "Inside if\n",
      "Inside if\n",
      "Inside if\n",
      "Inside if\n",
      "Inside if\n",
      "Inside if\n",
      "Something\n",
      "Something else\n",
      "done\n"
     ]
    }
   ],
   "source": [
    "n = 10\n",
    "i = 1\n",
    "while True:\n",
    "    if i%9 != 0:\n",
    "        print(\"Inside if\")\n",
    "        i = i+1\n",
    "        continue\n",
    "    print(\"Something\")\n",
    "    print(\"Something else\")\n",
    "    break\n",
    "print(\"done\")"
   ]
  },
  {
   "cell_type": "code",
   "execution_count": 7,
   "id": "c539d92f",
   "metadata": {},
   "outputs": [
    {
     "name": "stdout",
     "output_type": "stream",
     "text": [
      "1\n",
      "I am inside the nested while loop\n",
      "2\n",
      "I am inside the nested while loop\n",
      "3\n",
      "I am inside the nested while loop\n",
      "4\n",
      "I am inside the nested while loop\n",
      "I am outside the nested while loop\n"
     ]
    }
   ],
   "source": [
    "# nested while loop\n",
    "\n",
    "i = 1\n",
    "while i<10:\n",
    "    while i<5:\n",
    "        print(i)\n",
    "        print(\"I am inside the nested while loop\")\n",
    "        i = i + 1\n",
    "    print(\"I am outside the nested while loop\")\n",
    "    break"
   ]
  },
  {
   "cell_type": "code",
   "execution_count": null,
   "id": "32c54e8a",
   "metadata": {},
   "outputs": [
    {
     "name": "stdout",
     "output_type": "stream",
     "text": [
      "0 5\n",
      "1 4\n",
      "2 3\n",
      "3 2\n",
      "4 1\n"
     ]
    }
   ],
   "source": [
    "i = 0\n",
    "j = 5\n",
    "while i<6:\n",
    "    while j>0:\n",
    "        print(i,j)\n",
    "        i = i + 1\n",
    "        j = j - 1"
   ]
  },
  {
   "cell_type": "code",
   "execution_count": null,
   "id": "64324dee",
   "metadata": {},
   "outputs": [],
   "source": []
  }
 ],
 "metadata": {
  "kernelspec": {
   "display_name": "Python 3 (ipykernel)",
   "language": "python",
   "name": "python3"
  },
  "language_info": {
   "codemirror_mode": {
    "name": "ipython",
    "version": 3
   },
   "file_extension": ".py",
   "mimetype": "text/x-python",
   "name": "python",
   "nbconvert_exporter": "python",
   "pygments_lexer": "ipython3",
   "version": "3.11.5"
  }
 },
 "nbformat": 4,
 "nbformat_minor": 5
}
