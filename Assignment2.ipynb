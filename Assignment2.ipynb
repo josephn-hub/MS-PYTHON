{
 "cells": [
  {
   "cell_type": "markdown",
   "id": "29fa0fd6",
   "metadata": {},
   "source": [
    "1.Write a program to check whether a person is eligible for voting or not? (Accept age from user)"
   ]
  },
  {
   "cell_type": "code",
   "execution_count": 3,
   "id": "0d285bd2",
   "metadata": {},
   "outputs": [
    {
     "name": "stdout",
     "output_type": "stream",
     "text": [
      "Please enter the age: 18\n",
      "Eligible to vote\n"
     ]
    }
   ],
   "source": [
    "user_age = int(input(\"Please enter the age: \"))\n",
    "if user_age >= 18:\n",
    "    print(\"Eligible to vote\")\n",
    "else:\n",
    "    print(\"Age criteria not met for voting\")"
   ]
  },
  {
   "cell_type": "markdown",
   "id": "da5de5bb",
   "metadata": {},
   "source": [
    "2.Write a program to display “Hello” if a number entered by a user is a multiple of 5, otherwise print “Bye”"
   ]
  },
  {
   "cell_type": "code",
   "execution_count": 5,
   "id": "bbb6e6c7",
   "metadata": {},
   "outputs": [
    {
     "name": "stdout",
     "output_type": "stream",
     "text": [
      "Enter a number:45\n",
      "Hello\n"
     ]
    }
   ],
   "source": [
    "number = int(input(\"Enter a number:\"))\n",
    "if number % 5 ==0:\n",
    "    print(\"Hello\")\n",
    "else:\n",
    "    print(\"Bye\")"
   ]
  },
  {
   "cell_type": "markdown",
   "id": "7f9f8501",
   "metadata": {},
   "source": [
    "3.Write a program to calculate the electricity bill (accept number of units from user) according to the following criteria:\n",
    "Unit Price First 100 units no charge\n",
    "Next 100 units $ 5 per unit\n",
    "After 200 units $10 per unit\n",
    "(For example, if input unit is 350 than total bill amount is $ 2000)"
   ]
  },
  {
   "cell_type": "code",
   "execution_count": 13,
   "id": "023dd1bb",
   "metadata": {},
   "outputs": [
    {
     "name": "stdout",
     "output_type": "stream",
     "text": [
      "Enter the number of units consumed: 50\n",
      "Total bill amount: $ 0\n"
     ]
    }
   ],
   "source": [
    "def calculating_bill(units):\n",
    "    if units <= 100:\n",
    "        bill_amount = 0\n",
    "    elif units <= 200:\n",
    "        bill_amount = (units - 100) * 5\n",
    "    else:\n",
    "        bill_amount = 100 * 5 + (units - 200) * 10\n",
    "    return bill_amount\n",
    "\n",
    "usage_units = int(input(\"Enter the number of units consumed: \"))\n",
    "bill_amount = calculate_bill(units)\n",
    "print(\"Total bill amount: $\", bill_amount)"
   ]
  },
  {
   "cell_type": "markdown",
   "id": "55512ec2",
   "metadata": {},
   "source": [
    "4.Write a program to accept a number from 1 to 7 and display the name of the day like 1 for Sunday, 2 for Monday and so on."
   ]
  },
  {
   "cell_type": "code",
   "execution_count": 24,
   "id": "b2a648b5",
   "metadata": {},
   "outputs": [
    {
     "name": "stdout",
     "output_type": "stream",
     "text": [
      "Enter the number to find the week day: 9\n",
      "The provided number is not within the weekdays(1-7) \n",
      " please try number between 1 and 7\n"
     ]
    }
   ],
   "source": [
    "week_dictionary ={1:\"Sunday\", 2:\"Monday\",3:\"Tuesday\",4:\"Wednesday\",5:\"Thursday\", 6:\"Friday\", 7:\"Saturday\"}\n",
    "\n",
    "def number_week(number):\n",
    "    if number in week_dictionary.keys():\n",
    "        day_of_week = week_dictionary[number]\n",
    "        print(f\"The day for the week as per the provided by number {number} is {day_of_week}\")\n",
    "    \n",
    "    else:\n",
    "        print(f\"The provided number is not within the weekdays(1-7) \\n\",\n",
    "    \"please try number between 1 and 7\")\n",
    "        \n",
    "\n",
    "weekday_number = int(input(\"Enter the number to find the week day: \"))\n",
    "week_day = number_week(weekday_number)\n",
    "    "
   ]
  },
  {
   "cell_type": "markdown",
   "id": "4843bd82",
   "metadata": {},
   "source": [
    "5.Write a program to check a character is vowel or not"
   ]
  },
  {
   "cell_type": "code",
   "execution_count": 27,
   "id": "16ea7064",
   "metadata": {},
   "outputs": [
    {
     "name": "stdout",
     "output_type": "stream",
     "text": [
      "Enter a character: e\n",
      "The provided character e is vowel\n"
     ]
    }
   ],
   "source": [
    "vowels = ['a','e','i','o','u']\n",
    "\n",
    "def vowel_check(char):\n",
    "    if char in vowels:\n",
    "        print(f\"The provided character {char} is vowel\")\n",
    "    else:\n",
    "        print(f\"{char} it's not a vowel !!!\")\n",
    "\n",
    "user_input = input(\"Enter a character: \")\n",
    "checking_char = vowel_check(user_input)"
   ]
  },
  {
   "cell_type": "markdown",
   "id": "435c6009",
   "metadata": {},
   "source": [
    "6.Accept three sides of a triangle and check whether it is an equilateral, isosceles or scalene triangle.\n",
    "Note: An equilateral triangle is a triangle in which all three sides are equal. A scalene triangle is a triangle that has three unequal sides, An isosceles triangle with two equal sides"
   ]
  },
  {
   "cell_type": "code",
   "execution_count": 33,
   "id": "7820e7bd",
   "metadata": {},
   "outputs": [
    {
     "name": "stdout",
     "output_type": "stream",
     "text": [
      "First side: 5\n",
      "Second side: 4\n",
      "Third side: 3\n",
      "Three unequal sides, it is a scalene triangle\n"
     ]
    }
   ],
   "source": [
    "def check_triangle(a,b,c):\n",
    "    if a==b==c:\n",
    "        print(f\"All sides are equal, it is an equilateral triangle\")\n",
    "    elif a==b or b==c or a==c:\n",
    "        print(f\"Two sides are equal, it is an isosceles triangle\")\n",
    "    elif a!=b!=c:\n",
    "        print(f\"Three unequal sides, it is a scalene triangle\")\n",
    "\n",
    "side_1 = int(input(\"First side: \"))\n",
    "side_2 = int(input(\"Second side: \"))\n",
    "side_3 = int(input(\"Third side: \"))\n",
    "checking_triangle_type = check_triangle(side_1,side_2,side_3)"
   ]
  },
  {
   "cell_type": "code",
   "execution_count": null,
   "id": "04967b69",
   "metadata": {},
   "outputs": [],
   "source": []
  }
 ],
 "metadata": {
  "kernelspec": {
   "display_name": "Python 3 (ipykernel)",
   "language": "python",
   "name": "python3"
  },
  "language_info": {
   "codemirror_mode": {
    "name": "ipython",
    "version": 3
   },
   "file_extension": ".py",
   "mimetype": "text/x-python",
   "name": "python",
   "nbconvert_exporter": "python",
   "pygments_lexer": "ipython3",
   "version": "3.11.5"
  }
 },
 "nbformat": 4,
 "nbformat_minor": 5
}
