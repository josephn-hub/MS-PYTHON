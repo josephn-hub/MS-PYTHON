{
 "cells": [
  {
   "cell_type": "markdown",
   "id": "809aaff5",
   "metadata": {
    "id": "809aaff5"
   },
   "source": [
    "# 1. Set in Python"
   ]
  },
  {
   "cell_type": "markdown",
   "id": "wADxMzc_5Jin",
   "metadata": {
    "id": "wADxMzc_5Jin"
   },
   "source": [
    "In Python, a set is an unordered collection of unique items. Defined using curly braces {}, sets are mutable, allowing for the addition and removal of elements. However, they don't support indexing or slicing due to their unordered nature. Sets are commonly used for operations like union, intersection, and difference."
   ]
  },
  {
   "cell_type": "markdown",
   "id": "ynlR4h_85KK1",
   "metadata": {
    "id": "ynlR4h_85KK1"
   },
   "source": [
    "## Set Operations"
   ]
  },
  {
   "cell_type": "markdown",
   "id": "rmWKsh8L5PA8",
   "metadata": {
    "id": "rmWKsh8L5PA8"
   },
   "source": [
    "**1. Creating a set**"
   ]
  },
  {
   "cell_type": "code",
   "execution_count": 2,
   "id": "wvhq-1ZK5JIF",
   "metadata": {
    "id": "wvhq-1ZK5JIF"
   },
   "outputs": [],
   "source": [
    "my_set = {1, 2, 3, 4, 5}"
   ]
  },
  {
   "cell_type": "markdown",
   "id": "mE0c01y55TSY",
   "metadata": {
    "id": "mE0c01y55TSY"
   },
   "source": [
    "**2. Adding an element**"
   ]
  },
  {
   "cell_type": "code",
   "execution_count": 3,
   "id": "7HN6iydw5RzE",
   "metadata": {
    "id": "7HN6iydw5RzE"
   },
   "outputs": [],
   "source": [
    "my_set.add(6)"
   ]
  },
  {
   "cell_type": "markdown",
   "id": "acLemzot5YhH",
   "metadata": {
    "id": "acLemzot5YhH"
   },
   "source": [
    "**3. Removing an element**"
   ]
  },
  {
   "cell_type": "code",
   "execution_count": 4,
   "id": "xF21s8w55U5y",
   "metadata": {
    "id": "xF21s8w55U5y"
   },
   "outputs": [],
   "source": [
    "my_set.discard(1)"
   ]
  },
  {
   "cell_type": "markdown",
   "id": "dNDg8y1q5oS8",
   "metadata": {
    "id": "dNDg8y1q5oS8"
   },
   "source": [
    "**4. Union of sets**"
   ]
  },
  {
   "cell_type": "code",
   "execution_count": 5,
   "id": "ac-duT_y5nAI",
   "metadata": {
    "id": "ac-duT_y5nAI"
   },
   "outputs": [],
   "source": [
    "another_set = {5, 6, 7, 8}\n",
    "union_set = my_set.union(another_set)\n"
   ]
  },
  {
   "cell_type": "markdown",
   "id": "X0qQO9Ep5rL7",
   "metadata": {
    "id": "X0qQO9Ep5rL7"
   },
   "source": [
    "**5. Intersection of sets**"
   ]
  },
  {
   "cell_type": "code",
   "execution_count": 6,
   "id": "qdK0-0Fi5p-F",
   "metadata": {
    "id": "qdK0-0Fi5p-F"
   },
   "outputs": [],
   "source": [
    "intersection_set = my_set.intersection(another_set)"
   ]
  },
  {
   "cell_type": "code",
   "execution_count": 7,
   "id": "4EuAxzHo5uFH",
   "metadata": {
    "colab": {
     "base_uri": "https://localhost:8080/"
    },
    "id": "4EuAxzHo5uFH",
    "outputId": "22dd1677-611e-40f8-ab0b-7131b50b7bce"
   },
   "outputs": [
    {
     "data": {
      "text/plain": [
       "{5, 6}"
      ]
     },
     "execution_count": 7,
     "metadata": {},
     "output_type": "execute_result"
    }
   ],
   "source": [
    "intersection_set"
   ]
  },
  {
   "cell_type": "markdown",
   "id": "dRnMPazD6DI7",
   "metadata": {
    "id": "dRnMPazD6DI7"
   },
   "source": [
    "# 2. Dictionary in Python"
   ]
  },
  {
   "cell_type": "markdown",
   "id": "pOi1tXxC6Hx2",
   "metadata": {
    "id": "pOi1tXxC6Hx2"
   },
   "source": [
    "A dictionary in Python is a collection of key-value pairs, where each key is unique. Defined using curly braces {}, dictionaries allow for efficient data retrieval by key. They are mutable, meaning keys and values can be added or modified. The order of items is maintained as of Python 3.7, based on their insertion order."
   ]
  },
  {
   "cell_type": "markdown",
   "id": "N6t_c_Bf6uku",
   "metadata": {
    "id": "N6t_c_Bf6uku"
   },
   "source": [
    "## Dictionary Operations"
   ]
  },
  {
   "cell_type": "markdown",
   "id": "2X5717T66Mgu",
   "metadata": {
    "id": "2X5717T66Mgu"
   },
   "source": [
    "**1 . Creating a dictionary**"
   ]
  },
  {
   "cell_type": "code",
   "execution_count": 8,
   "id": "GtfurKGq5v3z",
   "metadata": {
    "id": "GtfurKGq5v3z"
   },
   "outputs": [],
   "source": [
    "my_dict = {'a': 1, 'b': 2, 'c': 3}"
   ]
  },
  {
   "cell_type": "markdown",
   "id": "P0jN9-316RV2",
   "metadata": {
    "id": "P0jN9-316RV2"
   },
   "source": [
    "**2. Accessing a value by key**"
   ]
  },
  {
   "cell_type": "code",
   "execution_count": 9,
   "id": "z-sD6EHN6ONh",
   "metadata": {
    "id": "z-sD6EHN6ONh"
   },
   "outputs": [],
   "source": [
    "value_a = my_dict['a']"
   ]
  },
  {
   "cell_type": "markdown",
   "id": "r0j_4PLO6VMX",
   "metadata": {
    "id": "r0j_4PLO6VMX"
   },
   "source": [
    "**3. Setting a value by key**"
   ]
  },
  {
   "cell_type": "code",
   "execution_count": 10,
   "id": "_GyHjn366T4v",
   "metadata": {
    "id": "_GyHjn366T4v"
   },
   "outputs": [],
   "source": [
    "my_dict['d'] = 4"
   ]
  },
  {
   "cell_type": "markdown",
   "id": "rU6VILu96a9k",
   "metadata": {
    "id": "rU6VILu96a9k"
   },
   "source": [
    "**4. Removing a key-value pair**"
   ]
  },
  {
   "cell_type": "code",
   "execution_count": 11,
   "id": "rd_k5xht6XTk",
   "metadata": {
    "id": "rd_k5xht6XTk"
   },
   "outputs": [],
   "source": [
    "del my_dict['a']"
   ]
  },
  {
   "cell_type": "markdown",
   "id": "jkgInaWm6eMo",
   "metadata": {
    "id": "jkgInaWm6eMo"
   },
   "source": [
    "**5. Iterating through keys and values**"
   ]
  },
  {
   "cell_type": "code",
   "execution_count": 12,
   "id": "rF81JaeZ6dEA",
   "metadata": {
    "colab": {
     "base_uri": "https://localhost:8080/"
    },
    "id": "rF81JaeZ6dEA",
    "outputId": "8e24619f-5ec8-4d22-ff02-e1a0c567c718"
   },
   "outputs": [
    {
     "name": "stdout",
     "output_type": "stream",
     "text": [
      "b 2\n",
      "c 3\n",
      "d 4\n"
     ]
    }
   ],
   "source": [
    "for key, value in my_dict.items():\n",
    "    print(key, value)"
   ]
  },
  {
   "cell_type": "code",
   "execution_count": null,
   "id": "f7U1dlqO6gXQ",
   "metadata": {
    "id": "f7U1dlqO6gXQ"
   },
   "outputs": [],
   "source": []
  }
 ],
 "metadata": {
  "colab": {
   "provenance": []
  },
  "kernelspec": {
   "display_name": "Python 3 (ipykernel)",
   "language": "python",
   "name": "python3"
  },
  "language_info": {
   "codemirror_mode": {
    "name": "ipython",
    "version": 3
   },
   "file_extension": ".py",
   "mimetype": "text/x-python",
   "name": "python",
   "nbconvert_exporter": "python",
   "pygments_lexer": "ipython3",
   "version": "3.11.5"
  }
 },
 "nbformat": 4,
 "nbformat_minor": 5
}
