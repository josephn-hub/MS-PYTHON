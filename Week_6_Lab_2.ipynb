{
 "cells": [
  {
   "cell_type": "markdown",
   "id": "Kd4MrO4PZiPv",
   "metadata": {
    "id": "Kd4MrO4PZiPv"
   },
   "source": [
    "# 1. Lambda Function"
   ]
  },
  {
   "cell_type": "markdown",
   "id": "eRdXLyT0Zqcx",
   "metadata": {
    "id": "eRdXLyT0Zqcx"
   },
   "source": [
    "Lambda functions in Python are small, anonymous functions defined using the `lambda` keyword. Unlike standard functions declared with `def`, lambda functions can have any number of arguments but only one expression. The expression is evaluated and returned when the function is called. Lambda functions are useful for short, simple operations that are used temporarily and don't require a formal function definition."
   ]
  },
  {
   "cell_type": "markdown",
   "id": "Ysg63BRIaNMn",
   "metadata": {
    "id": "Ysg63BRIaNMn"
   },
   "source": [
    "**Simple lambda function to add two numbers**"
   ]
  },
  {
   "cell_type": "code",
   "execution_count": 1,
   "id": "zALTVJu-Zp6s",
   "metadata": {
    "colab": {
     "base_uri": "https://localhost:8080/"
    },
    "id": "zALTVJu-Zp6s",
    "outputId": "6b64f572-9dde-45e4-826f-6e3985c40242"
   },
   "outputs": [
    {
     "name": "stdout",
     "output_type": "stream",
     "text": [
      "8\n"
     ]
    }
   ],
   "source": [
    "add = lambda x, y: x + y\n",
    "print(add(5, 3))"
   ]
  },
  {
   "cell_type": "markdown",
   "id": "ZMLtX8_saS9H",
   "metadata": {
    "id": "ZMLtX8_saS9H"
   },
   "source": [
    "**Lambda function with filter() to get even numbers from a list**"
   ]
  },
  {
   "cell_type": "code",
   "execution_count": 2,
   "id": "s-LVIUIpaQ-g",
   "metadata": {
    "colab": {
     "base_uri": "https://localhost:8080/"
    },
    "id": "s-LVIUIpaQ-g",
    "outputId": "92afe79f-5272-4155-8d58-f356b613d29a"
   },
   "outputs": [
    {
     "name": "stdout",
     "output_type": "stream",
     "text": [
      "[2, 4, 6, 8]\n"
     ]
    }
   ],
   "source": [
    "nums = [1, 2, 3, 4, 5, 6, 7, 8, 9]\n",
    "even_nums = list(filter(lambda x: x % 2 == 0, nums))\n",
    "print(even_nums)"
   ]
  },
  {
   "cell_type": "markdown",
   "id": "jCEvxPwmaiDJ",
   "metadata": {
    "id": "jCEvxPwmaiDJ"
   },
   "source": [
    "**Lambda function with sorted() to sort a list of strings by length**"
   ]
  },
  {
   "cell_type": "code",
   "execution_count": 3,
   "id": "g6PloVceaTut",
   "metadata": {
    "colab": {
     "base_uri": "https://localhost:8080/"
    },
    "id": "g6PloVceaTut",
    "outputId": "0d23d6f9-d86f-4b1b-dfa2-2f89ae941b58"
   },
   "outputs": [
    {
     "name": "stdout",
     "output_type": "stream",
     "text": [
      "['Eve', 'Bob', 'Chad', 'Alice', 'Deborah']\n"
     ]
    }
   ],
   "source": [
    "names = [\"Alice\", \"Eve\", \"Bob\", \"Chad\", \"Deborah\"]\n",
    "sorted_names = sorted(names, key=lambda x: len(x))\n",
    "print(sorted_names)"
   ]
  },
  {
   "cell_type": "code",
   "execution_count": 4,
   "id": "S3fEHlYAalfh",
   "metadata": {
    "id": "S3fEHlYAalfh"
   },
   "outputs": [],
   "source": [
    "# In this example, we're using a lambda function as the key for the sorted() function to sort a list of names based on their length."
   ]
  },
  {
   "cell_type": "markdown",
   "id": "4qHTfSwsap9X",
   "metadata": {
    "id": "4qHTfSwsap9X"
   },
   "source": [
    "# 2. Recursive Function"
   ]
  },
  {
   "cell_type": "markdown",
   "id": "DWErAMz0a2Sn",
   "metadata": {
    "id": "DWErAMz0a2Sn"
   },
   "source": [
    "A recursive function is a function that calls itself in order to break down a problem into smaller instances. It contains a base case to stop the recursion and prevent infinite loops. Recursive methods offer a clean solution for problems like factorials and Fibonacci sequences. However, excessive recursion can lead to a stack overflow error if not handled properly."
   ]
  },
  {
   "cell_type": "markdown",
   "id": "VoiLzL48a68O",
   "metadata": {
    "id": "VoiLzL48a68O"
   },
   "source": [
    "**Calculate factorial using recursion**"
   ]
  },
  {
   "cell_type": "code",
   "execution_count": 5,
   "id": "ZyP4btYBatJP",
   "metadata": {
    "id": "ZyP4btYBatJP"
   },
   "outputs": [],
   "source": [
    "def factorial(n):\n",
    "    \"\"\"Returns the factorial of a number using recursion.\"\"\"\n",
    "    if n == 1:\n",
    "        return 1\n",
    "    else:\n",
    "        return n * factorial(n-1)"
   ]
  },
  {
   "cell_type": "code",
   "execution_count": 6,
   "id": "p2G7GAfTa-Mb",
   "metadata": {
    "colab": {
     "base_uri": "https://localhost:8080/"
    },
    "id": "p2G7GAfTa-Mb",
    "outputId": "3e79d14a-0f48-42e2-e02d-797235b912e2"
   },
   "outputs": [
    {
     "name": "stdout",
     "output_type": "stream",
     "text": [
      "120\n"
     ]
    }
   ],
   "source": [
    "print(factorial(5))"
   ]
  },
  {
   "cell_type": "markdown",
   "id": "I2QE7QkBbBnQ",
   "metadata": {
    "id": "I2QE7QkBbBnQ"
   },
   "source": [
    "**Fibonacci Sequence using recursion**"
   ]
  },
  {
   "cell_type": "code",
   "execution_count": 7,
   "id": "owZ9VgH6a_Va",
   "metadata": {
    "id": "owZ9VgH6a_Va"
   },
   "outputs": [],
   "source": [
    "def fibonacci(n):\n",
    "    \"\"\"Return the nth value in the Fibonacci sequence.\"\"\"\n",
    "    if n <= 1:\n",
    "        return n\n",
    "    else:\n",
    "        return fibonacci(n-1) + fibonacci(n-2)"
   ]
  },
  {
   "cell_type": "code",
   "execution_count": 8,
   "id": "k_B-nDYobEv5",
   "metadata": {
    "colab": {
     "base_uri": "https://localhost:8080/"
    },
    "id": "k_B-nDYobEv5",
    "outputId": "b8c31ead-6923-42ce-ba2d-8a72d282546c"
   },
   "outputs": [
    {
     "name": "stdout",
     "output_type": "stream",
     "text": [
      "13\n"
     ]
    }
   ],
   "source": [
    "print(fibonacci(7))"
   ]
  },
  {
   "cell_type": "code",
   "execution_count": null,
   "id": "dCXjo17mbSFt",
   "metadata": {
    "id": "dCXjo17mbSFt"
   },
   "outputs": [],
   "source": []
  }
 ],
 "metadata": {
  "colab": {
   "provenance": []
  },
  "kernelspec": {
   "display_name": "Python 3 (ipykernel)",
   "language": "python",
   "name": "python3"
  },
  "language_info": {
   "codemirror_mode": {
    "name": "ipython",
    "version": 3
   },
   "file_extension": ".py",
   "mimetype": "text/x-python",
   "name": "python",
   "nbconvert_exporter": "python",
   "pygments_lexer": "ipython3",
   "version": "3.11.5"
  }
 },
 "nbformat": 4,
 "nbformat_minor": 5
}
