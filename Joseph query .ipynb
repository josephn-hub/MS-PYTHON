{
 "cells": [
  {
   "cell_type": "code",
   "execution_count": 10,
   "id": "5621086c",
   "metadata": {},
   "outputs": [
    {
     "name": "stdout",
     "output_type": "stream",
     "text": [
      "Enter any value: hjbj78ty78@@#  $$\n",
      "Invalid complex number format.\n"
     ]
    }
   ],
   "source": [
    "user_input = input(\"Enter any value: \")\n",
    "\n",
    "try:\n",
    "    user_input = int(user_input)\n",
    "    print(\"The type is integer.\")\n",
    "except ValueError:\n",
    "    try:\n",
    "        user_input = float(user_input)\n",
    "        print(\"The type is float.\")\n",
    "    except ValueError:\n",
    "        if user_input.lower() == \"true\" or user_input.lower() == \"false\":\n",
    "            user_input = bool(user_input)\n",
    "            print(\"The type is boolean.\")\n",
    "        elif \"i\" in user_input or \"j\" in user_input:\n",
    "            \n",
    "            try:\n",
    "                user_input = complex(user_input)\n",
    "                print(\"The type is complex.\")\n",
    "            except ValueError:\n",
    "               \n",
    "                print(\"Invalid complex number format.\")\n",
    "        elif user_input.isalpha():\n",
    "            print(\"The type is alphabetic string.\")\n",
    "        elif user_input.isalnum():\n",
    "            print(\"The type is alphanumeric string.\")\n",
    "        else:\n",
    "            print(\"Unknown Variable\")"
   ]
  },
  {
   "cell_type": "code",
   "execution_count": null,
   "id": "a66bdd3c",
   "metadata": {},
   "outputs": [],
   "source": []
  },
  {
   "cell_type": "code",
   "execution_count": null,
   "id": "396deb03",
   "metadata": {},
   "outputs": [],
   "source": []
  }
 ],
 "metadata": {
  "kernelspec": {
   "display_name": "Python 3 (ipykernel)",
   "language": "python",
   "name": "python3"
  },
  "language_info": {
   "codemirror_mode": {
    "name": "ipython",
    "version": 3
   },
   "file_extension": ".py",
   "mimetype": "text/x-python",
   "name": "python",
   "nbconvert_exporter": "python",
   "pygments_lexer": "ipython3",
   "version": "3.9.12"
  }
 },
 "nbformat": 4,
 "nbformat_minor": 5
}
