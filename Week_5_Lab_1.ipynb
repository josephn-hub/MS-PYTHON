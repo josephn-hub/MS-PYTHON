{
 "cells": [
  {
   "cell_type": "markdown",
   "id": "Xh7MW_Oo0wv5",
   "metadata": {
    "id": "Xh7MW_Oo0wv5"
   },
   "source": [
    "# 1. List in Python"
   ]
  },
  {
   "cell_type": "markdown",
   "id": "TFgQQPza0z2S",
   "metadata": {
    "id": "TFgQQPza0z2S"
   },
   "source": [
    "A list in Python is a versatile and mutable collection data type that can hold a mixture of different data types, including integers, floats, strings, and even other lists. Unlike arrays in other languages, Python lists are dynamic and can resize themselves, making them more akin to arrays in Java or vectors in C++."
   ]
  },
  {
   "cell_type": "markdown",
   "id": "OAcqLIk20-w_",
   "metadata": {
    "id": "OAcqLIk20-w_"
   },
   "source": [
    "# Operations of list"
   ]
  },
  {
   "cell_type": "markdown",
   "id": "3K-2UhX71AoJ",
   "metadata": {
    "id": "3K-2UhX71AoJ"
   },
   "source": [
    "## 1. Creating a List"
   ]
  },
  {
   "cell_type": "code",
   "execution_count": 1,
   "id": "20fec0f1",
   "metadata": {
    "colab": {
     "base_uri": "https://localhost:8080/"
    },
    "id": "20fec0f1",
    "outputId": "fecb32db-ce15-448f-cc40-1453dca952f1"
   },
   "outputs": [
    {
     "name": "stdout",
     "output_type": "stream",
     "text": [
      "Original List: [1, 2, 3, 4, 5]\n"
     ]
    }
   ],
   "source": [
    "sample_list = [1, 2, 3, 4, 5]\n",
    "print(\"Original List:\", sample_list)"
   ]
  },
  {
   "cell_type": "markdown",
   "id": "jmrE6E841Euv",
   "metadata": {
    "id": "jmrE6E841Euv"
   },
   "source": [
    "##  2. Adding an Element to the End of the List (Append)"
   ]
  },
  {
   "cell_type": "code",
   "execution_count": 3,
   "id": "FLVzPI7h0x_3",
   "metadata": {
    "colab": {
     "base_uri": "https://localhost:8080/"
    },
    "id": "FLVzPI7h0x_3",
    "outputId": "db63e531-af10-4411-fd5b-dbaeeac40b92"
   },
   "outputs": [
    {
     "name": "stdout",
     "output_type": "stream",
     "text": [
      "\n",
      "List After Append: [1, 2, 3, 4, 5, 6, 6]\n"
     ]
    }
   ],
   "source": [
    "sample_list.append(6)\n",
    "print(\"\\nList After Append:\", sample_list)"
   ]
  },
  {
   "cell_type": "markdown",
   "id": "le4Ho3NF1L-1",
   "metadata": {
    "id": "le4Ho3NF1L-1"
   },
   "source": [
    "## 3. Adding an Element at a Specific Position (Insert)"
   ]
  },
  {
   "cell_type": "code",
   "execution_count": 4,
   "id": "A9sZQwpL1MVA",
   "metadata": {
    "colab": {
     "base_uri": "https://localhost:8080/"
    },
    "id": "A9sZQwpL1MVA",
    "outputId": "8a9359f5-472a-4a8f-fa90-4db839f509d4"
   },
   "outputs": [
    {
     "name": "stdout",
     "output_type": "stream",
     "text": [
      "\n",
      "List After Insert: [1, 2, 2.5, 3, 4, 5, 6, 6]\n"
     ]
    }
   ],
   "source": [
    "sample_list.insert(2, 2.5)  # This inserts 2.5 at the 3rd position\n",
    "print(\"\\nList After Insert:\", sample_list)"
   ]
  },
  {
   "cell_type": "markdown",
   "id": "zhWaAOIc1QPH",
   "metadata": {
    "id": "zhWaAOIc1QPH"
   },
   "source": [
    "## 4. Removing an Element from the List (Remove)"
   ]
  },
  {
   "cell_type": "code",
   "execution_count": 5,
   "id": "rXPRXaVa1I8m",
   "metadata": {
    "colab": {
     "base_uri": "https://localhost:8080/"
    },
    "id": "rXPRXaVa1I8m",
    "outputId": "1cfe7699-d80f-4cbe-acfe-cdcb7f88cbe5"
   },
   "outputs": [
    {
     "name": "stdout",
     "output_type": "stream",
     "text": [
      "\n",
      "List After Remove: [1, 2, 3, 4, 5, 6, 6]\n"
     ]
    }
   ],
   "source": [
    "sample_list.remove(2.5)  # Removes the first occurrence of 2.5\n",
    "print(\"\\nList After Remove:\", sample_list)"
   ]
  },
  {
   "cell_type": "markdown",
   "id": "P0m41jnS1Uyx",
   "metadata": {
    "id": "P0m41jnS1Uyx"
   },
   "source": [
    "## 5. Accessing Elements from the List"
   ]
  },
  {
   "cell_type": "code",
   "execution_count": 6,
   "id": "qmv4fp581OGe",
   "metadata": {
    "colab": {
     "base_uri": "https://localhost:8080/"
    },
    "id": "qmv4fp581OGe",
    "outputId": "d830f6b9-17ce-4af5-a09d-e399f20910d4"
   },
   "outputs": [
    {
     "name": "stdout",
     "output_type": "stream",
     "text": [
      "\n",
      "Third Element in List: 3\n"
     ]
    }
   ],
   "source": [
    "print(\"\\nThird Element in List:\", sample_list[2])"
   ]
  },
  {
   "cell_type": "markdown",
   "id": "FjsSl1M21Y-w",
   "metadata": {
    "id": "FjsSl1M21Y-w"
   },
   "source": [
    "## 6. Slicing a List"
   ]
  },
  {
   "cell_type": "code",
   "execution_count": 7,
   "id": "y9CmAKh31Wkz",
   "metadata": {
    "colab": {
     "base_uri": "https://localhost:8080/"
    },
    "id": "y9CmAKh31Wkz",
    "outputId": "7663fdc6-0c51-4078-8422-886f050ecc61"
   },
   "outputs": [
    {
     "name": "stdout",
     "output_type": "stream",
     "text": [
      "\n",
      "First Three Elements: [1, 2, 3]\n"
     ]
    }
   ],
   "source": [
    "print(\"\\nFirst Three Elements:\", sample_list[:3])"
   ]
  },
  {
   "cell_type": "markdown",
   "id": "nBCgHctj1b8T",
   "metadata": {
    "id": "nBCgHctj1b8T"
   },
   "source": [
    "## 7. List Comprehension (Generating a new list by performing operations)"
   ]
  },
  {
   "cell_type": "code",
   "execution_count": 9,
   "id": "9Ds57qVW1dZg",
   "metadata": {
    "colab": {
     "base_uri": "https://localhost:8080/"
    },
    "id": "9Ds57qVW1dZg",
    "outputId": "53d36814-2224-466f-d7e9-cafa121097eb"
   },
   "outputs": [
    {
     "name": "stdout",
     "output_type": "stream",
     "text": [
      "\n",
      "Squared List: [1, 4, 9, 16, 25, 36, 36]\n"
     ]
    }
   ],
   "source": [
    "squared_list = [x**2 for x in sample_list]\n",
    "print(\"\\nSquared List:\", squared_list)"
   ]
  },
  {
   "cell_type": "markdown",
   "id": "wDOqGpid1lK2",
   "metadata": {
    "id": "wDOqGpid1lK2"
   },
   "source": [
    "# 2. Tuple in Python"
   ]
  },
  {
   "cell_type": "markdown",
   "id": "kPnz7GAE2TA-",
   "metadata": {
    "id": "kPnz7GAE2TA-"
   },
   "source": [
    "Tuples in Python are immutable collections used to group together multiple items. Defined using parentheses (), they can hold different data types. Unlike lists, once created, their content cannot be changed. Tuples are typically used for data that shouldn't be altered."
   ]
  },
  {
   "cell_type": "markdown",
   "id": "7cy_sgM_2VK7",
   "metadata": {
    "id": "7cy_sgM_2VK7"
   },
   "source": [
    "# Tuple Operations in Python"
   ]
  },
  {
   "cell_type": "markdown",
   "id": "2-4UV2yI2WkV",
   "metadata": {
    "id": "2-4UV2yI2WkV"
   },
   "source": [
    "## 1. Creating a Tuple"
   ]
  },
  {
   "cell_type": "code",
   "execution_count": 10,
   "id": "Zkx7VmWa1iLy",
   "metadata": {
    "colab": {
     "base_uri": "https://localhost:8080/"
    },
    "id": "Zkx7VmWa1iLy",
    "outputId": "c024d132-40ba-4e86-f4ac-627781834195"
   },
   "outputs": [
    {
     "name": "stdout",
     "output_type": "stream",
     "text": [
      "Original Tuple: (1, 2, 3, 4, 5)\n"
     ]
    }
   ],
   "source": [
    "sample_tuple = (1, 2, 3, 4, 5)\n",
    "print(\"Original Tuple:\", sample_tuple)"
   ]
  },
  {
   "cell_type": "markdown",
   "id": "3XihPTHR2bL3",
   "metadata": {
    "id": "3XihPTHR2bL3"
   },
   "source": [
    "## 2. Accessing Elements from the Tuple"
   ]
  },
  {
   "cell_type": "code",
   "execution_count": 11,
   "id": "qKotLhh-2ZV_",
   "metadata": {
    "colab": {
     "base_uri": "https://localhost:8080/"
    },
    "id": "qKotLhh-2ZV_",
    "outputId": "81a1e63f-df0a-4a0a-ebe3-1654dc66110d"
   },
   "outputs": [
    {
     "name": "stdout",
     "output_type": "stream",
     "text": [
      "\n",
      "Third Element in Tuple: 3\n"
     ]
    }
   ],
   "source": [
    "print(\"\\nThird Element in Tuple:\", sample_tuple[2])"
   ]
  },
  {
   "cell_type": "markdown",
   "id": "F2kPwL7M2d_t",
   "metadata": {
    "id": "F2kPwL7M2d_t"
   },
   "source": [
    "## 3. Slicing a Tuple"
   ]
  },
  {
   "cell_type": "code",
   "execution_count": 12,
   "id": "sq2E3FVe2cpa",
   "metadata": {
    "colab": {
     "base_uri": "https://localhost:8080/"
    },
    "id": "sq2E3FVe2cpa",
    "outputId": "fe2fbe8a-46bf-473d-88f8-6ce81c3a52ef"
   },
   "outputs": [
    {
     "name": "stdout",
     "output_type": "stream",
     "text": [
      "\n",
      "First Three Elements: (1, 2, 3)\n"
     ]
    }
   ],
   "source": [
    "print(\"\\nFirst Three Elements:\", sample_tuple[:3])"
   ]
  },
  {
   "cell_type": "markdown",
   "id": "73jA0Fiv2i_c",
   "metadata": {
    "id": "73jA0Fiv2i_c"
   },
   "source": [
    "## 4. Counting Occurrences of a Value"
   ]
  },
  {
   "cell_type": "code",
   "execution_count": 12,
   "id": "Gh7TFKJG2he5",
   "metadata": {
    "colab": {
     "base_uri": "https://localhost:8080/"
    },
    "id": "Gh7TFKJG2he5",
    "outputId": "6cc38007-ff1e-4ce4-8da9-5b4ac85a002f"
   },
   "outputs": [
    {
     "name": "stdout",
     "output_type": "stream",
     "text": [
      "\n",
      "Number of Occurrences of 2: 1\n"
     ]
    }
   ],
   "source": [
    "count_twos = sample_tuple.count(2)\n",
    "print(\"\\nNumber of Occurrences of 2:\", count_twos)"
   ]
  },
  {
   "cell_type": "markdown",
   "id": "8R49ZYTj2mAf",
   "metadata": {
    "id": "8R49ZYTj2mAf"
   },
   "source": [
    "## 5. Finding the Index of a Value"
   ]
  },
  {
   "cell_type": "code",
   "execution_count": 13,
   "id": "lFhN8MKP2kjJ",
   "metadata": {
    "colab": {
     "base_uri": "https://localhost:8080/"
    },
    "id": "lFhN8MKP2kjJ",
    "outputId": "d9d244f2-dc97-438a-a425-2a9e1868c756"
   },
   "outputs": [
    {
     "name": "stdout",
     "output_type": "stream",
     "text": [
      "\n",
      "Index of Value 3: 2\n"
     ]
    }
   ],
   "source": [
    "index_of_three = sample_tuple.index(3)\n",
    "print(\"\\nIndex of Value 3:\", index_of_three)"
   ]
  },
  {
   "cell_type": "code",
   "execution_count": 14,
   "id": "0j2AUFyS24xo",
   "metadata": {
    "id": "0j2AUFyS24xo"
   },
   "outputs": [],
   "source": [
    "# Note: Tuples are immutable, so operations like append, insert, or remove don't apply here."
   ]
  },
  {
   "cell_type": "code",
   "execution_count": null,
   "id": "SL78XMwl26m4",
   "metadata": {
    "id": "SL78XMwl26m4"
   },
   "outputs": [],
   "source": []
  }
 ],
 "metadata": {
  "colab": {
   "provenance": []
  },
  "kernelspec": {
   "display_name": "Python 3 (ipykernel)",
   "language": "python",
   "name": "python3"
  },
  "language_info": {
   "codemirror_mode": {
    "name": "ipython",
    "version": 3
   },
   "file_extension": ".py",
   "mimetype": "text/x-python",
   "name": "python",
   "nbconvert_exporter": "python",
   "pygments_lexer": "ipython3",
   "version": "3.11.5"
  }
 },
 "nbformat": 4,
 "nbformat_minor": 5
}
