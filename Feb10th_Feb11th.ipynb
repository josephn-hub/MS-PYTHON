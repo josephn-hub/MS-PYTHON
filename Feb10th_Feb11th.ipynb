{
 "cells": [
  {
   "cell_type": "markdown",
   "id": "2677bdbf",
   "metadata": {},
   "source": [
    "# Datastructures\n",
    "\n",
    "1. LISTS\n",
    "2. TUPLE\n",
    "3. SET\n",
    "4. DICTIONARY"
   ]
  },
  {
   "cell_type": "code",
   "execution_count": 5,
   "id": "b4f256f2",
   "metadata": {},
   "outputs": [],
   "source": [
    "L = [3, \"JOSEPH\", 45.6, \"kiran\", \"joseph\"]\n",
    "T = (3, \"JOSEPH\", 45.6, \"kiran\", \"joseph\")\n",
    "S=  {3, \"JOSEPH\", 45.6, \"kiran\", \"joseph\"}\n",
    "D = {1: \"KAMBHAM\", 2:\"JOSEPH\", 3:\"NAVEEN\", 4: \"KIRAN\", \"C\": \"JOSEPH\"}"
   ]
  },
  {
   "cell_type": "code",
   "execution_count": 16,
   "id": "5c040b17",
   "metadata": {},
   "outputs": [
    {
     "name": "stdout",
     "output_type": "stream",
     "text": [
      "[3, 'JOSEPH', 45.6, 'kiran', 'Joseph', 'kiran']\n"
     ]
    },
    {
     "data": {
      "text/plain": [
       "'kiran'"
      ]
     },
     "execution_count": 16,
     "metadata": {},
     "output_type": "execute_result"
    }
   ],
   "source": [
    "print(L)\n",
    "L[3]"
   ]
  },
  {
   "cell_type": "code",
   "execution_count": 7,
   "id": "bd0ca0f9",
   "metadata": {},
   "outputs": [
    {
     "name": "stdout",
     "output_type": "stream",
     "text": [
      "(3, 'JOSEPH', 45.6, 'kiran', 'joseph')\n"
     ]
    }
   ],
   "source": [
    "print(T)"
   ]
  },
  {
   "cell_type": "code",
   "execution_count": 8,
   "id": "7b6001ef",
   "metadata": {},
   "outputs": [
    {
     "data": {
      "text/plain": [
       "'kiran'"
      ]
     },
     "execution_count": 8,
     "metadata": {},
     "output_type": "execute_result"
    }
   ],
   "source": [
    "T[3]"
   ]
  },
  {
   "cell_type": "code",
   "execution_count": 13,
   "id": "0e2d0439",
   "metadata": {},
   "outputs": [],
   "source": [
    "L.append(\"kiran\")"
   ]
  },
  {
   "cell_type": "code",
   "execution_count": 15,
   "id": "fc54a94f",
   "metadata": {},
   "outputs": [],
   "source": [
    "L[4] = \"Joseph\""
   ]
  },
  {
   "cell_type": "code",
   "execution_count": 17,
   "id": "30839207",
   "metadata": {},
   "outputs": [
    {
     "name": "stdout",
     "output_type": "stream",
     "text": [
      "{3, 'joseph', 'JOSEPH', 45.6, 'kiran'}\n"
     ]
    }
   ],
   "source": [
    "print(S)"
   ]
  },
  {
   "cell_type": "code",
   "execution_count": 18,
   "id": "b086a893",
   "metadata": {},
   "outputs": [
    {
     "data": {
      "text/plain": [
       "True"
      ]
     },
     "execution_count": 18,
     "metadata": {},
     "output_type": "execute_result"
    }
   ],
   "source": [
    "\"kiran\" in S"
   ]
  },
  {
   "cell_type": "code",
   "execution_count": 25,
   "id": "d08950dd",
   "metadata": {},
   "outputs": [
    {
     "data": {
      "text/plain": [
       "{1: 'KAMBHAM',\n",
       " 2: 'JOSEPH',\n",
       " 3: 'NAVEEN',\n",
       " 4: 'KIRAN',\n",
       " 'C': 'JOSEPH',\n",
       " 5: 'Christy'}"
      ]
     },
     "execution_count": 25,
     "metadata": {},
     "output_type": "execute_result"
    }
   ],
   "source": [
    "D"
   ]
  },
  {
   "cell_type": "code",
   "execution_count": 45,
   "id": "61e9d7cf",
   "metadata": {},
   "outputs": [
    {
     "name": "stdout",
     "output_type": "stream",
     "text": [
      "dict_keys([1, 2, 3, 4, 'C', 5])\n",
      "dict_values(['KAMBHAM', 'JOSEPH', 'NAVEEN', 'KIRAN', 'JOSEPH', 'Christy'])\n"
     ]
    }
   ],
   "source": [
    "D[5] ='Christy'\n",
    "D\n",
    "print(D.keys())\n",
    "print(D.values())\n"
   ]
  },
  {
   "cell_type": "code",
   "execution_count": 22,
   "id": "e8d2d4af",
   "metadata": {},
   "outputs": [],
   "source": [
    "dict?"
   ]
  },
  {
   "cell_type": "code",
   "execution_count": 32,
   "id": "c5631904",
   "metadata": {},
   "outputs": [
    {
     "data": {
      "text/plain": [
       "[3, 'JOSEPH', 45.6, 'kiran']"
      ]
     },
     "execution_count": 32,
     "metadata": {},
     "output_type": "execute_result"
    }
   ],
   "source": [
    "L[0:4:1]"
   ]
  },
  {
   "cell_type": "code",
   "execution_count": 46,
   "id": "fbc4ca0f",
   "metadata": {},
   "outputs": [],
   "source": [
    "L2 = [43,99.8, \"jay\", \"bpahrm\"]"
   ]
  },
  {
   "cell_type": "code",
   "execution_count": 48,
   "id": "0e59a686",
   "metadata": {},
   "outputs": [
    {
     "name": "stdout",
     "output_type": "stream",
     "text": [
      "[3, 'JOSEPH', 45.6, 'kiran', 'Joseph', 'kiran', 43, 99.8, 'jay', 'bpahrm']\n"
     ]
    }
   ],
   "source": [
    "L3 = L+L2\n",
    "print(L3)"
   ]
  },
  {
   "cell_type": "code",
   "execution_count": 51,
   "id": "23b3b399",
   "metadata": {},
   "outputs": [
    {
     "name": "stdout",
     "output_type": "stream",
     "text": [
      "[66, 81, 122.7, 83]\n"
     ]
    }
   ],
   "source": [
    "list_add_1 = [34,45,65.7,3]\n",
    "list_add_2 = [32,36,57,80,90]\n",
    "L4 = [x + y for x,y in zip(list_add_1,list_add_2)]\n",
    "print(L4)"
   ]
  },
  {
   "cell_type": "code",
   "execution_count": 53,
   "id": "751cf8bb",
   "metadata": {},
   "outputs": [
    {
     "data": {
      "text/plain": [
       "5"
      ]
     },
     "execution_count": 53,
     "metadata": {},
     "output_type": "execute_result"
    }
   ],
   "source": [
    "import random\n",
    "random.randint(1,6)"
   ]
  },
  {
   "cell_type": "code",
   "execution_count": 9,
   "id": "811ecf3f",
   "metadata": {},
   "outputs": [
    {
     "name": "stdout",
     "output_type": "stream",
     "text": [
      "Hello,You are now playing Dice game\n",
      " Please select numbers between 1 and 6\n",
      "4\n",
      "Try again, correct number was 6\n"
     ]
    }
   ],
   "source": [
    "import numpy as np\n",
    "\n",
    "def computer_choice():\n",
    "    return np.random.randint(1,7)\n",
    "\n",
    "def user_choice():\n",
    "    print(f\"Hello,You are now playing Dice game\")\n",
    "    print(f\" Please select numbers between 1 and 6\")\n",
    "    user_chosen = int(input())\n",
    "    if 1 <= user_chosen <= 6:\n",
    "        computer_chosen = computer_choice()\n",
    "        if user_chosen == computer_chosen:\n",
    "            print(\"You made a correct guess\")\n",
    "        else:\n",
    "            print(f\"Try again, correct number was {computer_chosen}\")\n",
    "            \n",
    "    else:\n",
    "        print(\"Please choose between 1 and 6\")\n",
    "\n",
    "while True:\n",
    "    user_choice()\n",
    "    break"
   ]
  },
  {
   "cell_type": "code",
   "execution_count": 12,
   "id": "4040915a",
   "metadata": {},
   "outputs": [
    {
     "name": "stdout",
     "output_type": "stream",
     "text": [
      "Enter student id: 1\n",
      "Enter student marks splitted by ,: 45,67,89\n",
      "Enter NO to quit insertion or print anything34\n",
      "Enter student id: 2\n",
      "Enter student marks splitted by ,: 67,89,90\n",
      "Enter NO to quit insertion or print anything56\n",
      "Enter student id: 3\n",
      "Enter student marks splitted by ,: 23,99,100\n",
      "Enter NO to quit insertion or print anythingNO\n",
      "Thanks for adding students\n"
     ]
    }
   ],
   "source": [
    "def getstudentmarks():\n",
    "    D = {}\n",
    "    while True:\n",
    "       \n",
    "        student_id = input(\"Enter student id: \")\n",
    "        student_marks = input (\"Enter student marks splitted by ,: \")\n",
    "        more_student = input(\"Enter NO to quit insertion or print anything\")\n",
    "    \n",
    "        if student_id in D:\n",
    "            print(\"Already student is avaiable\")\n",
    "        else:\n",
    "            D[student_id] = student_marks.split(',')\n",
    "    \n",
    "        if more_student.lower() == 'no':\n",
    "            print(\"Thanks for adding students\")\n",
    "            return D\n",
    "    \n",
    "\n",
    "insert_students = getstudentmarks()"
   ]
  },
  {
   "cell_type": "code",
   "execution_count": 13,
   "id": "1cb28a30",
   "metadata": {},
   "outputs": [
    {
     "name": "stdout",
     "output_type": "stream",
     "text": [
      "{'1': ['45', '67', '89'], '2': ['67', '89', '90'], '3': ['23', '99', '100']}\n"
     ]
    }
   ],
   "source": [
    "print(insert_students)"
   ]
  },
  {
   "cell_type": "code",
   "execution_count": 9,
   "id": "86b6475a",
   "metadata": {},
   "outputs": [
    {
     "ename": "NameError",
     "evalue": "name 'D' is not defined",
     "output_type": "error",
     "traceback": [
      "\u001b[0;31m---------------------------------------------------------------------------\u001b[0m",
      "\u001b[0;31mNameError\u001b[0m                                 Traceback (most recent call last)",
      "Cell \u001b[0;32mIn[9], line 1\u001b[0m\n\u001b[0;32m----> 1\u001b[0m \u001b[38;5;28mprint\u001b[39m(D)\n",
      "\u001b[0;31mNameError\u001b[0m: name 'D' is not defined"
     ]
    }
   ],
   "source": [
    "print(D)"
   ]
  },
  {
   "cell_type": "code",
   "execution_count": 27,
   "id": "8998b9ad",
   "metadata": {},
   "outputs": [],
   "source": [
    "def calculate_average(D):\n",
    "    average_marks ={}\n",
    "    for x in D:\n",
    "        L = D[x]\n",
    "        s = 0\n",
    "        for marks in L:\n",
    "            s+=int(marks)\n",
    "        average_marks[x] = s/len(L)\n",
    "    return average_marks\n",
    "        \n",
    "        "
   ]
  },
  {
   "cell_type": "code",
   "execution_count": 28,
   "id": "9a849742",
   "metadata": {},
   "outputs": [],
   "source": [
    "avgm = calculate_average(insert_students)"
   ]
  },
  {
   "cell_type": "code",
   "execution_count": 29,
   "id": "7655e5dd",
   "metadata": {},
   "outputs": [
    {
     "name": "stdout",
     "output_type": "stream",
     "text": [
      "Student id 1 has average marks of : 67.0\n",
      "Student id 2 has average marks of : 82.0\n",
      "Student id 3 has average marks of : 74.0\n"
     ]
    }
   ],
   "source": [
    "for x in avgm:\n",
    "    print(f\"Student id {x} has average marks of :\", avgm[x])"
   ]
  },
  {
   "cell_type": "code",
   "execution_count": 31,
   "id": "2ff1d971",
   "metadata": {},
   "outputs": [],
   "source": [
    "import numpy as np"
   ]
  },
  {
   "cell_type": "code",
   "execution_count": 32,
   "id": "b5296e9b",
   "metadata": {},
   "outputs": [],
   "source": [
    "a = np.array([[1,2] , [3,4]])"
   ]
  },
  {
   "cell_type": "code",
   "execution_count": 33,
   "id": "009eb2bc",
   "metadata": {},
   "outputs": [
    {
     "data": {
      "text/plain": [
       "array([[1, 2],\n",
       "       [3, 4]])"
      ]
     },
     "execution_count": 33,
     "metadata": {},
     "output_type": "execute_result"
    }
   ],
   "source": [
    "a"
   ]
  },
  {
   "cell_type": "code",
   "execution_count": 34,
   "id": "a54a96d6",
   "metadata": {},
   "outputs": [],
   "source": [
    "b = np.array([6,7])"
   ]
  },
  {
   "cell_type": "code",
   "execution_count": 35,
   "id": "b523e6d4",
   "metadata": {},
   "outputs": [
    {
     "data": {
      "text/plain": [
       "array([6, 7])"
      ]
     },
     "execution_count": 35,
     "metadata": {},
     "output_type": "execute_result"
    }
   ],
   "source": [
    "b"
   ]
  },
  {
   "cell_type": "code",
   "execution_count": 36,
   "id": "f289bfee",
   "metadata": {},
   "outputs": [
    {
     "data": {
      "text/plain": [
       "2"
      ]
     },
     "execution_count": 36,
     "metadata": {},
     "output_type": "execute_result"
    }
   ],
   "source": [
    "a.ndim"
   ]
  },
  {
   "cell_type": "code",
   "execution_count": 37,
   "id": "fb73850a",
   "metadata": {},
   "outputs": [
    {
     "data": {
      "text/plain": [
       "1"
      ]
     },
     "execution_count": 37,
     "metadata": {},
     "output_type": "execute_result"
    }
   ],
   "source": [
    "b.ndim"
   ]
  },
  {
   "cell_type": "code",
   "execution_count": 38,
   "id": "fc89b7ad",
   "metadata": {},
   "outputs": [
    {
     "data": {
      "text/plain": [
       "(2, 2)"
      ]
     },
     "execution_count": 38,
     "metadata": {},
     "output_type": "execute_result"
    }
   ],
   "source": [
    "a.shape"
   ]
  },
  {
   "cell_type": "code",
   "execution_count": 39,
   "id": "cb8df4a2",
   "metadata": {},
   "outputs": [
    {
     "data": {
      "text/plain": [
       "dtype('int64')"
      ]
     },
     "execution_count": 39,
     "metadata": {},
     "output_type": "execute_result"
    }
   ],
   "source": [
    "a.dtype"
   ]
  },
  {
   "cell_type": "code",
   "execution_count": 40,
   "id": "05eb477c",
   "metadata": {},
   "outputs": [
    {
     "data": {
      "text/plain": [
       "dtype('int64')"
      ]
     },
     "execution_count": 40,
     "metadata": {},
     "output_type": "execute_result"
    }
   ],
   "source": [
    "b.dtype"
   ]
  },
  {
   "cell_type": "code",
   "execution_count": 41,
   "id": "bc6cfe5b",
   "metadata": {},
   "outputs": [
    {
     "data": {
      "text/plain": [
       "array([[ 7,  9],\n",
       "       [ 9, 11]])"
      ]
     },
     "execution_count": 41,
     "metadata": {},
     "output_type": "execute_result"
    }
   ],
   "source": [
    "a + b"
   ]
  },
  {
   "cell_type": "code",
   "execution_count": 43,
   "id": "f5ee7848",
   "metadata": {},
   "outputs": [
    {
     "name": "stdout",
     "output_type": "stream",
     "text": [
      "<memory at 0x107e4db10>\n"
     ]
    }
   ],
   "source": [
    "print(a.data)"
   ]
  },
  {
   "cell_type": "code",
   "execution_count": 46,
   "id": "0714539d",
   "metadata": {},
   "outputs": [],
   "source": [
    "c = np.array([[[1,2],[3,4]], [[6,7],[8,9]], [[3,6],[7,8]]])"
   ]
  },
  {
   "cell_type": "code",
   "execution_count": 47,
   "id": "3d06a5aa",
   "metadata": {},
   "outputs": [
    {
     "data": {
      "text/plain": [
       "(3, 2, 2)"
      ]
     },
     "execution_count": 47,
     "metadata": {},
     "output_type": "execute_result"
    }
   ],
   "source": [
    "c.shape"
   ]
  },
  {
   "cell_type": "code",
   "execution_count": 48,
   "id": "0d7d76f6",
   "metadata": {},
   "outputs": [
    {
     "data": {
      "text/plain": [
       "array([[[1, 2],\n",
       "        [3, 4]],\n",
       "\n",
       "       [[6, 7],\n",
       "        [8, 9]],\n",
       "\n",
       "       [[3, 6],\n",
       "        [7, 8]]])"
      ]
     },
     "execution_count": 48,
     "metadata": {},
     "output_type": "execute_result"
    }
   ],
   "source": [
    "c"
   ]
  },
  {
   "cell_type": "code",
   "execution_count": 49,
   "id": "80e282ab",
   "metadata": {},
   "outputs": [
    {
     "data": {
      "text/plain": [
       "12"
      ]
     },
     "execution_count": 49,
     "metadata": {},
     "output_type": "execute_result"
    }
   ],
   "source": [
    "c.size"
   ]
  },
  {
   "cell_type": "code",
   "execution_count": 51,
   "id": "8e38f16f",
   "metadata": {},
   "outputs": [
    {
     "data": {
      "text/plain": [
       "array([ 0,  1,  2,  3,  4,  5,  6,  7,  8,  9, 10, 11])"
      ]
     },
     "execution_count": 51,
     "metadata": {},
     "output_type": "execute_result"
    }
   ],
   "source": [
    "np.arange(12)"
   ]
  },
  {
   "cell_type": "code",
   "execution_count": 52,
   "id": "be2d7595",
   "metadata": {},
   "outputs": [
    {
     "data": {
      "text/plain": [
       "array([ 2,  3,  4,  5,  6,  7,  8,  9, 10, 11, 12, 13, 14, 15, 16, 17, 18])"
      ]
     },
     "execution_count": 52,
     "metadata": {},
     "output_type": "execute_result"
    }
   ],
   "source": [
    "np.arange(2,19)"
   ]
  },
  {
   "cell_type": "code",
   "execution_count": 53,
   "id": "2d19da9f",
   "metadata": {},
   "outputs": [
    {
     "data": {
      "text/plain": [
       "array([ 1,  3,  5,  7,  9, 11, 13, 15, 17, 19])"
      ]
     },
     "execution_count": 53,
     "metadata": {},
     "output_type": "execute_result"
    }
   ],
   "source": [
    "np.arange(1,20,2)"
   ]
  },
  {
   "cell_type": "code",
   "execution_count": 59,
   "id": "0cd2d2ac",
   "metadata": {},
   "outputs": [
    {
     "data": {
      "text/plain": [
       "array([0, 3, 4, 1, 9, 5, 2, 8, 6, 7])"
      ]
     },
     "execution_count": 59,
     "metadata": {},
     "output_type": "execute_result"
    }
   ],
   "source": [
    "np.random.permutation(np.arange(10))"
   ]
  },
  {
   "cell_type": "code",
   "execution_count": 61,
   "id": "25f29b2f",
   "metadata": {},
   "outputs": [
    {
     "data": {
      "text/plain": [
       "6"
      ]
     },
     "execution_count": 61,
     "metadata": {},
     "output_type": "execute_result"
    }
   ],
   "source": [
    "np.random.randint(1,10)"
   ]
  },
  {
   "cell_type": "code",
   "execution_count": 62,
   "id": "697a34e8",
   "metadata": {},
   "outputs": [],
   "source": [
    "np.array_str?"
   ]
  },
  {
   "cell_type": "code",
   "execution_count": 63,
   "id": "bf0e46e6",
   "metadata": {},
   "outputs": [
    {
     "data": {
      "text/plain": [
       "'[0 1 2]'"
      ]
     },
     "execution_count": 63,
     "metadata": {},
     "output_type": "execute_result"
    }
   ],
   "source": [
    "np.array_str(np.arange(3))"
   ]
  },
  {
   "cell_type": "code",
   "execution_count": 65,
   "id": "683f334d",
   "metadata": {},
   "outputs": [],
   "source": [
    "np.broadcast?"
   ]
  },
  {
   "cell_type": "code",
   "execution_count": 67,
   "id": "7ad3b763",
   "metadata": {},
   "outputs": [],
   "source": [
    "np.tri?"
   ]
  },
  {
   "cell_type": "code",
   "execution_count": 68,
   "id": "a3a0bf96",
   "metadata": {},
   "outputs": [],
   "source": [
    "np.reshape?"
   ]
  },
  {
   "cell_type": "code",
   "execution_count": null,
   "id": "7647ab5a",
   "metadata": {},
   "outputs": [],
   "source": []
  }
 ],
 "metadata": {
  "kernelspec": {
   "display_name": "Python 3 (ipykernel)",
   "language": "python",
   "name": "python3"
  },
  "language_info": {
   "codemirror_mode": {
    "name": "ipython",
    "version": 3
   },
   "file_extension": ".py",
   "mimetype": "text/x-python",
   "name": "python",
   "nbconvert_exporter": "python",
   "pygments_lexer": "ipython3",
   "version": "3.11.5"
  }
 },
 "nbformat": 4,
 "nbformat_minor": 5
}
