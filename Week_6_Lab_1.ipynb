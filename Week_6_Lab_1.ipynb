{
 "cells": [
  {
   "cell_type": "markdown",
   "id": "6XlUyQuHVgX5",
   "metadata": {
    "id": "6XlUyQuHVgX5"
   },
   "source": [
    "# 1. Build-in Function in Python"
   ]
  },
  {
   "cell_type": "markdown",
   "id": "PysyZjJaVdwX",
   "metadata": {
    "id": "PysyZjJaVdwX"
   },
   "source": [
    "Built-in functions in Python are pre-defined functions that come with the language and can be used without the need to declare or define them. They serve various purposes, from mathematical operations to data manipulation and input/output. Examples of built-in functions include print() for displaying output, len() to find the length of objects like lists, and sorted() for sorting iterables."
   ]
  },
  {
   "cell_type": "code",
   "execution_count": 1,
   "id": "w_tIP8xXVeYz",
   "metadata": {
    "colab": {
     "base_uri": "https://localhost:8080/"
    },
    "id": "w_tIP8xXVeYz",
    "outputId": "87596a61-78ba-499e-889a-4fb5842f0286"
   },
   "outputs": [
    {
     "name": "stdout",
     "output_type": "stream",
     "text": [
      "\n",
      "BUILT-IN FUNCTIONS\n",
      "----------------------------------------\n"
     ]
    }
   ],
   "source": [
    "print(\"\\nBUILT-IN FUNCTIONS\\n\" + \"-\"*40)"
   ]
  },
  {
   "cell_type": "markdown",
   "id": "wGTmgLTyVmYx",
   "metadata": {
    "id": "wGTmgLTyVmYx"
   },
   "source": [
    "**Using print() to display a message**"
   ]
  },
  {
   "cell_type": "code",
   "execution_count": 2,
   "id": "ZCFLMOnUVkpf",
   "metadata": {
    "colab": {
     "base_uri": "https://localhost:8080/"
    },
    "id": "ZCFLMOnUVkpf",
    "outputId": "0089226b-8775-4c76-ea34-ea7cec23d696"
   },
   "outputs": [
    {
     "name": "stdout",
     "output_type": "stream",
     "text": [
      "Hello, World!\n"
     ]
    }
   ],
   "source": [
    "print(\"Hello, World!\")"
   ]
  },
  {
   "cell_type": "markdown",
   "id": "tjtAntNcVqdr",
   "metadata": {
    "id": "tjtAntNcVqdr"
   },
   "source": [
    "**Calculating the length of a list using len()**"
   ]
  },
  {
   "cell_type": "code",
   "execution_count": 3,
   "id": "6M_InBLxVnA2",
   "metadata": {
    "colab": {
     "base_uri": "https://localhost:8080/"
    },
    "id": "6M_InBLxVnA2",
    "outputId": "67d0ec86-5053-4242-e0a4-aec2b661275e"
   },
   "outputs": [
    {
     "name": "stdout",
     "output_type": "stream",
     "text": [
      "Length of the sample list: 5\n"
     ]
    }
   ],
   "source": [
    "sample_list = [1, 2, 3, 4, 5]\n",
    "length_of_list = len(sample_list)\n",
    "print(f\"Length of the sample list: {length_of_list}\")"
   ]
  },
  {
   "cell_type": "markdown",
   "id": "9SW69BowVtVS",
   "metadata": {
    "id": "9SW69BowVtVS"
   },
   "source": [
    "**Using sorted() to sort a list**"
   ]
  },
  {
   "cell_type": "code",
   "execution_count": 4,
   "id": "ujuYMj_zVsEW",
   "metadata": {
    "colab": {
     "base_uri": "https://localhost:8080/"
    },
    "id": "ujuYMj_zVsEW",
    "outputId": "5c6d8f49-72cd-4ae6-8ca1-0ebc324e9dbb"
   },
   "outputs": [
    {
     "name": "stdout",
     "output_type": "stream",
     "text": [
      "Sorted list in descending order: [5, 4, 3, 2, 1]\n"
     ]
    }
   ],
   "source": [
    "sorted_list = sorted(sample_list, reverse=True)\n",
    "print(f\"Sorted list in descending order: {sorted_list}\")\n"
   ]
  },
  {
   "cell_type": "markdown",
   "id": "fd2pjGc3Vv0I",
   "metadata": {
    "id": "fd2pjGc3Vv0I"
   },
   "source": [
    "# 2. Library Function in Python"
   ]
  },
  {
   "cell_type": "markdown",
   "id": "P0i_j7poWPFB",
   "metadata": {
    "id": "P0i_j7poWPFB"
   },
   "source": [
    "Library functions in Python are organized sets of code provided by external modules or packages to perform specific tasks. Unlike built-in functions, they need to be imported before use. These functions expand Python's capabilities, allowing developers to achieve complex operations without writing code from scratch. Popular libraries like `math` for mathematical operations and `os` for operating system interactions offer numerous such functions."
   ]
  },
  {
   "cell_type": "code",
   "execution_count": 5,
   "id": "mTE1O4FyVu4E",
   "metadata": {
    "colab": {
     "base_uri": "https://localhost:8080/"
    },
    "id": "mTE1O4FyVu4E",
    "outputId": "604c400b-6a6b-4b08-efae-1e724e788b89"
   },
   "outputs": [
    {
     "name": "stdout",
     "output_type": "stream",
     "text": [
      "\n",
      "LIBRARY FUNCTIONS\n",
      "----------------------------------------\n"
     ]
    }
   ],
   "source": [
    "print(\"\\nLIBRARY FUNCTIONS\\n\" + \"-\"*40)"
   ]
  },
  {
   "cell_type": "code",
   "execution_count": 6,
   "id": "OnBxMh_xV0qf",
   "metadata": {
    "id": "OnBxMh_xV0qf"
   },
   "outputs": [],
   "source": [
    "# Loading the math library to implement the library function in python\n",
    "import math"
   ]
  },
  {
   "cell_type": "markdown",
   "id": "vW_heUZvV_SR",
   "metadata": {
    "id": "vW_heUZvV_SR"
   },
   "source": [
    "**Using sqrt() from math library to calculate square root**"
   ]
  },
  {
   "cell_type": "code",
   "execution_count": 8,
   "id": "sGP41XpsV13M",
   "metadata": {
    "colab": {
     "base_uri": "https://localhost:8080/"
    },
    "id": "sGP41XpsV13M",
    "outputId": "5dc10672-b802-4a1f-85d4-4cb0001b84b0"
   },
   "outputs": [
    {
     "name": "stdout",
     "output_type": "stream",
     "text": [
      "Square root of 25 is: 5.0\n"
     ]
    }
   ],
   "source": [
    "num = 25\n",
    "sqrt_num = math.sqrt(num)\n",
    "print(f\"Square root of {num} is: {sqrt_num}\")"
   ]
  },
  {
   "cell_type": "markdown",
   "id": "jj5l89GUWCSz",
   "metadata": {
    "id": "jj5l89GUWCSz"
   },
   "source": [
    "**Using factorial() from math library**"
   ]
  },
  {
   "cell_type": "code",
   "execution_count": 7,
   "id": "ELHB3iO2WBJD",
   "metadata": {
    "colab": {
     "base_uri": "https://localhost:8080/"
    },
    "id": "ELHB3iO2WBJD",
    "outputId": "05f456a8-925e-435c-daa5-e504cfb61b12"
   },
   "outputs": [
    {
     "name": "stdout",
     "output_type": "stream",
     "text": [
      "Factorial of 5 is: 120\n"
     ]
    }
   ],
   "source": [
    "fact = math.factorial(5)\n",
    "print(f\"Factorial of 5 is: {fact}\")"
   ]
  },
  {
   "cell_type": "markdown",
   "id": "qPaofquSWTMJ",
   "metadata": {
    "id": "qPaofquSWTMJ"
   },
   "source": [
    "# 3.User Defined Function"
   ]
  },
  {
   "cell_type": "markdown",
   "id": "DWC9w264XnWI",
   "metadata": {
    "id": "DWC9w264XnWI"
   },
   "source": [
    "User-defined functions in Python are custom functions created by programmers to perform specific tasks. They allow for code reusability and modular programming. Defined using the `def` keyword, these functions can accept parameters and return values. They enhance code clarity by breaking down complex problems into smaller, manageable tasks, enabling more organized and efficient coding."
   ]
  },
  {
   "cell_type": "code",
   "execution_count": 10,
   "id": "oFsTD3AuWD6m",
   "metadata": {
    "colab": {
     "base_uri": "https://localhost:8080/"
    },
    "id": "oFsTD3AuWD6m",
    "outputId": "123c0896-7db9-48f8-a291-b79a3af6ce19"
   },
   "outputs": [
    {
     "name": "stdout",
     "output_type": "stream",
     "text": [
      "\n",
      "USER-DEFINED FUNCTIONS\n",
      "----------------------------------------\n"
     ]
    }
   ],
   "source": [
    "print(\"\\nUSER-DEFINED FUNCTIONS\\n\" + \"-\"*40)"
   ]
  },
  {
   "cell_type": "markdown",
   "id": "MVZmMOt3X5kA",
   "metadata": {
    "id": "MVZmMOt3X5kA"
   },
   "source": [
    "**Defining a simple function to add two numbers**"
   ]
  },
  {
   "cell_type": "code",
   "execution_count": 8,
   "id": "jamcG-n_Xu-x",
   "metadata": {
    "id": "jamcG-n_Xu-x"
   },
   "outputs": [],
   "source": [
    "def add(a, b):\n",
    "    return a + b\n"
   ]
  },
  {
   "cell_type": "markdown",
   "id": "f9q5hbOZX9rA",
   "metadata": {
    "id": "f9q5hbOZX9rA"
   },
   "source": [
    "**Using the user-defined function**"
   ]
  },
  {
   "cell_type": "code",
   "execution_count": 12,
   "id": "xIRvJuZZX72I",
   "metadata": {
    "colab": {
     "base_uri": "https://localhost:8080/"
    },
    "id": "xIRvJuZZX72I",
    "outputId": "aadb5722-188a-4957-edc3-4881d4832b14"
   },
   "outputs": [
    {
     "name": "stdout",
     "output_type": "stream",
     "text": [
      "Result of addition: 30\n"
     ]
    }
   ],
   "source": [
    "result = add(10, 20)\n",
    "print(f\"Result of addition: {result}\")"
   ]
  },
  {
   "cell_type": "markdown",
   "id": "gKOZge9tYBGx",
   "metadata": {
    "id": "gKOZge9tYBGx"
   },
   "source": [
    "**Defining a function to check if a number is even**"
   ]
  },
  {
   "cell_type": "code",
   "execution_count": 9,
   "id": "EiqPd4lmX_um",
   "metadata": {
    "id": "EiqPd4lmX_um"
   },
   "outputs": [],
   "source": [
    "def is_even(num):\n",
    "    return num % 2 == 0"
   ]
  },
  {
   "cell_type": "markdown",
   "id": "3LWd84yNYEAg",
   "metadata": {
    "id": "3LWd84yNYEAg"
   },
   "source": [
    "**Using the user-defined function**"
   ]
  },
  {
   "cell_type": "code",
   "execution_count": 10,
   "id": "0dhBRqJpYC0T",
   "metadata": {
    "colab": {
     "base_uri": "https://localhost:8080/"
    },
    "id": "0dhBRqJpYC0T",
    "outputId": "0f9a3451-cf83-4dfb-c0b3-e172e8fa5285"
   },
   "outputs": [
    {
     "name": "stdout",
     "output_type": "stream",
     "text": [
      "7 is odd.\n"
     ]
    }
   ],
   "source": [
    "number = 7\n",
    "if is_even(number):\n",
    "    print(f\"{number} is even.\")\n",
    "else:\n",
    "    print(f\"{number} is odd.\")"
   ]
  },
  {
   "cell_type": "code",
   "execution_count": null,
   "id": "WIi4JovXYGE0",
   "metadata": {
    "id": "WIi4JovXYGE0"
   },
   "outputs": [],
   "source": []
  }
 ],
 "metadata": {
  "colab": {
   "provenance": []
  },
  "kernelspec": {
   "display_name": "Python 3 (ipykernel)",
   "language": "python",
   "name": "python3"
  },
  "language_info": {
   "codemirror_mode": {
    "name": "ipython",
    "version": 3
   },
   "file_extension": ".py",
   "mimetype": "text/x-python",
   "name": "python",
   "nbconvert_exporter": "python",
   "pygments_lexer": "ipython3",
   "version": "3.11.5"
  }
 },
 "nbformat": 4,
 "nbformat_minor": 5
}
