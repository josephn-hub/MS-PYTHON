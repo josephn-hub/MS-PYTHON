{
 "cells": [
  {
   "cell_type": "markdown",
   "id": "6l0vJ-PZ5G3s",
   "metadata": {
    "id": "6l0vJ-PZ5G3s"
   },
   "source": [
    "# 1. Numpy"
   ]
  },
  {
   "cell_type": "markdown",
   "id": "4hstqRBh5V0c",
   "metadata": {
    "id": "4hstqRBh5V0c"
   },
   "source": [
    "NumPy is a foundational Python library for numerical computing. It offers support for multi-dimensional arrays and matrices, along with a suite of mathematical functions to operate on these data structures. Essential for data science and scientific computing tasks, NumPy provides efficient array operations and interfaces seamlessly with other libraries in the Python ecosystem. Its capabilities form the backbone of the data manipulation in Python."
   ]
  },
  {
   "cell_type": "markdown",
   "id": "s55EV9Ye5fpU",
   "metadata": {
    "id": "s55EV9Ye5fpU"
   },
   "source": [
    "**importing the library**"
   ]
  },
  {
   "cell_type": "code",
   "execution_count": 22,
   "id": "0GyG-4Kl5INt",
   "metadata": {
    "id": "0GyG-4Kl5INt"
   },
   "outputs": [],
   "source": [
    "import numpy as np"
   ]
  },
  {
   "cell_type": "markdown",
   "id": "X0WBFQXr5kCd",
   "metadata": {
    "id": "X0WBFQXr5kCd"
   },
   "source": [
    "**Creating Arrays**"
   ]
  },
  {
   "cell_type": "code",
   "execution_count": 23,
   "id": "HqQOUnPo5ie7",
   "metadata": {
    "colab": {
     "base_uri": "https://localhost:8080/"
    },
    "id": "HqQOUnPo5ie7",
    "outputId": "195acb75-81ce-4083-d70a-9d14c5bd8906"
   },
   "outputs": [
    {
     "name": "stdout",
     "output_type": "stream",
     "text": [
      "Array a: [1 2 3 4 5]\n"
     ]
    }
   ],
   "source": [
    "# Create a simple array from a list\n",
    "a = np.array([1, 2, 3, 4, 5])\n",
    "print(\"Array a:\", a)\n"
   ]
  },
  {
   "cell_type": "code",
   "execution_count": 3,
   "id": "Zx-jJc3P5mSE",
   "metadata": {
    "colab": {
     "base_uri": "https://localhost:8080/"
    },
    "id": "Zx-jJc3P5mSE",
    "outputId": "10b10768-9eca-4b27-f3a0-1297b7285ccf"
   },
   "outputs": [
    {
     "name": "stdout",
     "output_type": "stream",
     "text": [
      "\n",
      "2D Array b:\n",
      " [[1 2]\n",
      " [3 4]\n",
      " [5 6]]\n"
     ]
    }
   ],
   "source": [
    "# Create a 2D array (matrix) from a list of lists\n",
    "b = np.array([[1, 2], [3, 4], [5, 6]])\n",
    "print(\"\\n2D Array b:\\n\", b)"
   ]
  },
  {
   "cell_type": "code",
   "execution_count": 4,
   "id": "U_R60huJ5nV0",
   "metadata": {
    "colab": {
     "base_uri": "https://localhost:8080/"
    },
    "id": "U_R60huJ5nV0",
    "outputId": "a6dfc96f-1cf7-441b-e5fb-0216d897b98d"
   },
   "outputs": [
    {
     "name": "stdout",
     "output_type": "stream",
     "text": [
      "\n",
      "Array of zeros:\n",
      " [[0. 0. 0.]\n",
      " [0. 0. 0.]\n",
      " [0. 0. 0.]]\n"
     ]
    }
   ],
   "source": [
    "# Generate an array of zeros\n",
    "c = np.zeros((3, 3))\n",
    "print(\"\\nArray of zeros:\\n\", c)"
   ]
  },
  {
   "cell_type": "markdown",
   "id": "DUuuT-tf5qAH",
   "metadata": {
    "id": "DUuuT-tf5qAH"
   },
   "source": [
    "**Basic Array Operations**"
   ]
  },
  {
   "cell_type": "code",
   "execution_count": 5,
   "id": "KfhIHott5oul",
   "metadata": {
    "id": "KfhIHott5oul"
   },
   "outputs": [],
   "source": [
    "# You can perform element-wise operations on arrays,\n",
    "# as well as use built-in methods for calculations."
   ]
  },
  {
   "cell_type": "code",
   "execution_count": 6,
   "id": "3XnZKDOf5sIj",
   "metadata": {
    "colab": {
     "base_uri": "https://localhost:8080/"
    },
    "id": "3XnZKDOf5sIj",
    "outputId": "843c0087-e6b5-4524-9567-2f326e321756"
   },
   "outputs": [
    {
     "name": "stdout",
     "output_type": "stream",
     "text": [
      "\n",
      "Sum of arrays: [6 6 6 6 6]\n"
     ]
    }
   ],
   "source": [
    "# Element-wise addition\n",
    "sum_array = a + np.array([5, 4, 3, 2, 1])\n",
    "print(\"\\nSum of arrays:\", sum_array)"
   ]
  },
  {
   "cell_type": "code",
   "execution_count": 7,
   "id": "jPs_DBDO5tVE",
   "metadata": {
    "colab": {
     "base_uri": "https://localhost:8080/"
    },
    "id": "jPs_DBDO5tVE",
    "outputId": "11c2c403-fca4-4284-9e4f-2a76bafd195b"
   },
   "outputs": [
    {
     "name": "stdout",
     "output_type": "stream",
     "text": [
      "\n",
      "Product of array with 2: [ 2  4  6  8 10]\n"
     ]
    }
   ],
   "source": [
    "# Element-wise multiplication\n",
    "product_array = a * 2\n",
    "print(\"\\nProduct of array with 2:\", product_array)"
   ]
  },
  {
   "cell_type": "code",
   "execution_count": 8,
   "id": "nC9YCMGk5uvR",
   "metadata": {
    "colab": {
     "base_uri": "https://localhost:8080/"
    },
    "id": "nC9YCMGk5uvR",
    "outputId": "b44d1d52-6bc9-4c8e-c1c9-ad9aa7585d86"
   },
   "outputs": [
    {
     "name": "stdout",
     "output_type": "stream",
     "text": [
      "\n",
      "Mean of array a: 3.0\n"
     ]
    }
   ],
   "source": [
    "# Calculate mean of the array\n",
    "mean_a = np.mean(a)\n",
    "print(\"\\nMean of array a:\", mean_a)"
   ]
  },
  {
   "cell_type": "markdown",
   "id": "GzPJp0KP5xMf",
   "metadata": {
    "id": "GzPJp0KP5xMf"
   },
   "source": [
    "**Reshaping and Slicing**"
   ]
  },
  {
   "cell_type": "code",
   "execution_count": 9,
   "id": "qZFf9QqN6CPj",
   "metadata": {
    "id": "qZFf9QqN6CPj"
   },
   "outputs": [],
   "source": [
    "# NumPy allows easy reshaping of arrays and extracting portions of arrays."
   ]
  },
  {
   "cell_type": "code",
   "execution_count": 10,
   "id": "ghwo1iK75vwt",
   "metadata": {
    "colab": {
     "base_uri": "https://localhost:8080/"
    },
    "id": "ghwo1iK75vwt",
    "outputId": "25f5ae1c-14af-4f09-f36f-311ead097b10"
   },
   "outputs": [
    {
     "name": "stdout",
     "output_type": "stream",
     "text": [
      "\n",
      "Reshaped array:\n",
      " [[1]\n",
      " [2]\n",
      " [3]\n",
      " [4]\n",
      " [5]]\n"
     ]
    }
   ],
   "source": [
    "# Reshape 'a' to a 5x1 matrix\n",
    "reshaped_a = a.reshape(5, 1)\n",
    "print(\"\\nReshaped array:\\n\", reshaped_a)"
   ]
  },
  {
   "cell_type": "code",
   "execution_count": 11,
   "id": "00OJk8gr6Bxo",
   "metadata": {
    "colab": {
     "base_uri": "https://localhost:8080/"
    },
    "id": "00OJk8gr6Bxo",
    "outputId": "ce0dcac8-13eb-4983-915f-c50c36c878ea"
   },
   "outputs": [
    {
     "name": "stdout",
     "output_type": "stream",
     "text": [
      "\n",
      "Sliced array b:\n",
      " [[1 2]\n",
      " [3 4]]\n"
     ]
    }
   ],
   "source": [
    "# Slice 'b' to extract its first 2 rows\n",
    "sliced_b = b[:2, :]\n",
    "print(\"\\nSliced array b:\\n\", sliced_b)"
   ]
  },
  {
   "cell_type": "markdown",
   "id": "0Zo_WquH_yJF",
   "metadata": {
    "id": "0Zo_WquH_yJF"
   },
   "source": [
    "**Mathematical Functions**"
   ]
  },
  {
   "cell_type": "code",
   "execution_count": 12,
   "id": "gNeeoTG46IUD",
   "metadata": {
    "id": "gNeeoTG46IUD"
   },
   "outputs": [],
   "source": [
    "# NumPy provides numerous mathematical functions to perform operations on arrays."
   ]
  },
  {
   "cell_type": "code",
   "execution_count": 13,
   "id": "BhT29MBT_4Io",
   "metadata": {
    "colab": {
     "base_uri": "https://localhost:8080/"
    },
    "id": "BhT29MBT_4Io",
    "outputId": "5dd42e54-ad8f-46a9-c4df-43b1375b5b7e"
   },
   "outputs": [
    {
     "name": "stdout",
     "output_type": "stream",
     "text": [
      "\n",
      "Square root of array a: [1.         1.41421356 1.73205081 2.         2.23606798]\n"
     ]
    }
   ],
   "source": [
    "# Calculate the square root of each element\n",
    "sqrt_a = np.sqrt(a)\n",
    "print(\"\\nSquare root of array a:\", sqrt_a)"
   ]
  },
  {
   "cell_type": "code",
   "execution_count": 14,
   "id": "AijM531-__Oj",
   "metadata": {
    "colab": {
     "base_uri": "https://localhost:8080/"
    },
    "id": "AijM531-__Oj",
    "outputId": "35d7eccb-214f-4125-aba9-e418cc239e77"
   },
   "outputs": [
    {
     "name": "stdout",
     "output_type": "stream",
     "text": [
      "\n",
      "Dot product:\n",
      " [[ 50]\n",
      " [110]]\n"
     ]
    }
   ],
   "source": [
    "# Dot product of two matrices\n",
    "dot_product = np.dot(np.array([[1,2],[3,4]]), np.array([[10],[20]]))\n",
    "print(\"\\nDot product:\\n\", dot_product)"
   ]
  },
  {
   "cell_type": "markdown",
   "id": "il5NFlPlASZk",
   "metadata": {
    "id": "il5NFlPlASZk"
   },
   "source": [
    "# 2. Pandas"
   ]
  },
  {
   "cell_type": "markdown",
   "id": "S8_TyT7OAbZU",
   "metadata": {
    "id": "S8_TyT7OAbZU"
   },
   "source": [
    "Pandas is a powerful Python library for data analysis and manipulation. It introduces two primary data structures: \"Series\" for one-dimensional data and \"DataFrame\" for tabular data. With functions for reading/writing data, handling missing values, and filtering rows/columns, Pandas simplifies complex data operations. It's an essential tool for data scientists and analysts using Python."
   ]
  },
  {
   "cell_type": "markdown",
   "id": "5qyvFKMiAopA",
   "metadata": {
    "id": "5qyvFKMiAopA"
   },
   "source": [
    "**Importing Libraries and Loading the Dataset**"
   ]
  },
  {
   "cell_type": "code",
   "execution_count": 15,
   "id": "naLmC_vUAA2D",
   "metadata": {
    "id": "naLmC_vUAA2D"
   },
   "outputs": [],
   "source": [
    "import pandas as pd\n",
    "import seaborn as sns\n",
    "\n",
    "# Load the Titanic dataset\n",
    "df = sns.load_dataset('titanic')\n"
   ]
  },
  {
   "cell_type": "markdown",
   "id": "JAUstex8Nakn",
   "metadata": {
    "id": "JAUstex8Nakn"
   },
   "source": [
    "**Exploring the Dataset**"
   ]
  },
  {
   "cell_type": "code",
   "execution_count": 16,
   "id": "55UL2DKtAtO9",
   "metadata": {
    "colab": {
     "base_uri": "https://localhost:8080/"
    },
    "id": "55UL2DKtAtO9",
    "outputId": "724731ca-d84f-4b10-8ecf-0bf61bbca5ec"
   },
   "outputs": [
    {
     "name": "stdout",
     "output_type": "stream",
     "text": [
      "   survived  pclass     sex   age  sibsp  parch     fare embarked  class  \\\n",
      "0         0       3    male  22.0      1      0   7.2500        S  Third   \n",
      "1         1       1  female  38.0      1      0  71.2833        C  First   \n",
      "2         1       3  female  26.0      0      0   7.9250        S  Third   \n",
      "3         1       1  female  35.0      1      0  53.1000        S  First   \n",
      "4         0       3    male  35.0      0      0   8.0500        S  Third   \n",
      "\n",
      "     who  adult_male deck  embark_town alive  alone  \n",
      "0    man        True  NaN  Southampton    no  False  \n",
      "1  woman       False    C    Cherbourg   yes  False  \n",
      "2  woman       False  NaN  Southampton   yes   True  \n",
      "3  woman       False    C  Southampton   yes  False  \n",
      "4    man        True  NaN  Southampton    no   True  \n",
      "<class 'pandas.core.frame.DataFrame'>\n",
      "RangeIndex: 891 entries, 0 to 890\n",
      "Data columns (total 15 columns):\n",
      " #   Column       Non-Null Count  Dtype   \n",
      "---  ------       --------------  -----   \n",
      " 0   survived     891 non-null    int64   \n",
      " 1   pclass       891 non-null    int64   \n",
      " 2   sex          891 non-null    object  \n",
      " 3   age          714 non-null    float64 \n",
      " 4   sibsp        891 non-null    int64   \n",
      " 5   parch        891 non-null    int64   \n",
      " 6   fare         891 non-null    float64 \n",
      " 7   embarked     889 non-null    object  \n",
      " 8   class        891 non-null    category\n",
      " 9   who          891 non-null    object  \n",
      " 10  adult_male   891 non-null    bool    \n",
      " 11  deck         203 non-null    category\n",
      " 12  embark_town  889 non-null    object  \n",
      " 13  alive        891 non-null    object  \n",
      " 14  alone        891 non-null    bool    \n",
      "dtypes: bool(2), category(2), float64(2), int64(4), object(5)\n",
      "memory usage: 80.7+ KB\n",
      "None\n"
     ]
    }
   ],
   "source": [
    "# Display the first few rows of the dataset\n",
    "print(df.head())\n",
    "\n",
    "# Get information about the dataset\n",
    "print(df.info())\n"
   ]
  },
  {
   "cell_type": "markdown",
   "id": "snF-0WFONhU8",
   "metadata": {
    "id": "snF-0WFONhU8"
   },
   "source": [
    "**Data Selection and Filtering**"
   ]
  },
  {
   "cell_type": "code",
   "execution_count": 17,
   "id": "F8jkMHzxNdca",
   "metadata": {
    "id": "F8jkMHzxNdca"
   },
   "outputs": [],
   "source": [
    "# Selecting the 'age' column\n",
    "ages = df['age']\n",
    "\n",
    "# Filtering passengers who survived\n",
    "survived_passengers = df[df['survived'] == 1]\n"
   ]
  },
  {
   "cell_type": "markdown",
   "id": "mry6wF3YNl_N",
   "metadata": {
    "id": "mry6wF3YNl_N"
   },
   "source": [
    "**Handling Missing Data**"
   ]
  },
  {
   "cell_type": "code",
   "execution_count": 18,
   "id": "L2cawaQwNifS",
   "metadata": {
    "id": "L2cawaQwNifS"
   },
   "outputs": [],
   "source": [
    "# Fill missing ages with median age\n",
    "df['age'].fillna(df['age'].median(), inplace=True)\n"
   ]
  },
  {
   "cell_type": "markdown",
   "id": "sEp3S1lONqUl",
   "metadata": {
    "id": "sEp3S1lONqUl"
   },
   "source": [
    "**Feature Engineering: Creating a New Column**"
   ]
  },
  {
   "cell_type": "code",
   "execution_count": 19,
   "id": "HCDgLg6HNn5z",
   "metadata": {
    "id": "HCDgLg6HNn5z"
   },
   "outputs": [],
   "source": [
    "# Categorize age into 'child', 'adult', 'elderly'\n",
    "df['age_group'] = pd.cut(df['age'], bins=[0, 18, 60, 100], labels=['child', 'adult', 'elderly'])\n"
   ]
  },
  {
   "cell_type": "markdown",
   "id": "cpZO2LfyNwcV",
   "metadata": {
    "id": "cpZO2LfyNwcV"
   },
   "source": [
    "**Aggregation: Average Fare by Class**"
   ]
  },
  {
   "cell_type": "code",
   "execution_count": 20,
   "id": "w4s64UQdNs9y",
   "metadata": {
    "colab": {
     "base_uri": "https://localhost:8080/"
    },
    "id": "w4s64UQdNs9y",
    "outputId": "665eb947-b6ef-442c-a8db-41b22922498c"
   },
   "outputs": [
    {
     "name": "stdout",
     "output_type": "stream",
     "text": [
      "class\n",
      "First     84.154687\n",
      "Second    20.662183\n",
      "Third     13.675550\n",
      "Name: fare, dtype: float64\n"
     ]
    }
   ],
   "source": [
    "average_fare_by_class = df.groupby('class')['fare'].mean()\n",
    "print(average_fare_by_class)\n"
   ]
  },
  {
   "cell_type": "markdown",
   "id": "Uqg4Rlc6N0-L",
   "metadata": {
    "id": "Uqg4Rlc6N0-L"
   },
   "source": [
    "**Saving Processed Data**"
   ]
  },
  {
   "cell_type": "code",
   "execution_count": 21,
   "id": "vb8Vz97DNycE",
   "metadata": {
    "id": "vb8Vz97DNycE"
   },
   "outputs": [],
   "source": [
    "df.to_csv('processed_titanic_data.csv', index=False)"
   ]
  },
  {
   "cell_type": "code",
   "execution_count": null,
   "id": "wqUn_eLHN21B",
   "metadata": {
    "id": "wqUn_eLHN21B"
   },
   "outputs": [],
   "source": []
  }
 ],
 "metadata": {
  "colab": {
   "provenance": []
  },
  "kernelspec": {
   "display_name": "Python 3 (ipykernel)",
   "language": "python",
   "name": "python3"
  },
  "language_info": {
   "codemirror_mode": {
    "name": "ipython",
    "version": 3
   },
   "file_extension": ".py",
   "mimetype": "text/x-python",
   "name": "python",
   "nbconvert_exporter": "python",
   "pygments_lexer": "ipython3",
   "version": "3.11.5"
  }
 },
 "nbformat": 4,
 "nbformat_minor": 5
}
