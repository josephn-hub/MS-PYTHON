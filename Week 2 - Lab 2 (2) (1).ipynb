{
 "cells": [
  {
   "cell_type": "markdown",
   "id": "8353504f",
   "metadata": {},
   "source": [
    "# Control Flow\n"
   ]
  },
  {
   "cell_type": "code",
   "execution_count": null,
   "id": "f66aabcd",
   "metadata": {},
   "outputs": [],
   "source": [
    "# simple if condition\n",
    "a = int(input())\n",
    "b = int(input())\n",
    "if a>b:\n",
    "    print(a)\n",
    "    print(\"I am inside the if condition\")\n",
    "print(\"I am outside the if condition\")"
   ]
  },
  {
   "cell_type": "code",
   "execution_count": null,
   "id": "1904fdbe",
   "metadata": {},
   "outputs": [],
   "source": [
    "a = int(input(\"Enter your 1st no:\"))\n",
    "b = int(input(\"Enter your 2nd no:\"))\n",
    "if a>b:\n",
    "    print(a)\n",
    "if b>a:\n",
    "    print(b)"
   ]
  },
  {
   "cell_type": "code",
   "execution_count": null,
   "id": "53a850ca",
   "metadata": {},
   "outputs": [],
   "source": [
    "# use of else clause\n",
    "a = int(input(\"Enter your 1st no:\"))\n",
    "b = int(input(\"Enter your 2nd no:\"))\n",
    "if a>b:\n",
    "    print(a)\n",
    "    print(\"we are inside if statement\")\n",
    "else:\n",
    "    print(b)\n",
    "    print(\"we are inside else statement\")\n",
    "print(\"Hello\")"
   ]
  },
  {
   "cell_type": "code",
   "execution_count": null,
   "id": "482f0304",
   "metadata": {},
   "outputs": [],
   "source": [
    "# use of elif clause\n",
    "a= float(input(\"Enter your 1st number\"))\n",
    "b = float(input(\"Enter your 2nd number\"))\n",
    "\n",
    "if (a>b):\n",
    "    print(\"a is greater than b\")\n",
    "elif (a==b):\n",
    "        print(\"a and b are equal\")\n",
    "else:\n",
    "    print(\"b is greater than a\")"
   ]
  },
  {
   "cell_type": "code",
   "execution_count": 1,
   "id": "611f0c6b",
   "metadata": {},
   "outputs": [
    {
     "name": "stdout",
     "output_type": "stream",
     "text": [
      "Enter your marks: 83\n",
      "A Grade\n"
     ]
    }
   ],
   "source": [
    "\"\"\"  Take marks from user. \n",
    ">=85 (a+)\n",
    "<85 >=80 (a)\n",
    "<80 >=75 (b+)\n",
    "<75 >=70 (b)\n",
    "Below Average\n",
    "\"\"\"\n",
    "\n",
    "a = int(input(\"Enter your marks: \"))\n",
    "if a>=85:\n",
    "    print(\"A+ Grade\")\n",
    "elif a < 85 and a >= 80:\n",
    "    print(\"A Grade\")\n",
    "elif a < 80 and a >= 75:\n",
    "    print(\"B+ Grade\")\n",
    "elif a < 75 and a >= 70:\n",
    "    print(\"B Grade\")\n",
    "else:\n",
    "    print(\"Below Average\")\n"
   ]
  },
  {
   "cell_type": "code",
   "execution_count": 5,
   "id": "151c9bef",
   "metadata": {},
   "outputs": [
    {
     "data": {
      "text/plain": [
       "' var = input()\\nif(type(var)==int):\\n    print(it is integer)'"
      ]
     },
     "execution_count": 5,
     "metadata": {},
     "output_type": "execute_result"
    }
   ],
   "source": [
    "\"\"\"Enter his age\n",
    "1- 6 yrs (child)\n",
    ">= 6 <12 ()\n",
    ">= 12 <20 (tennager)\n",
    ">=20 <35 (Adult)\n",
    "Grown up\n",
    "\"\"\"\n",
    "# practice elif statment\n",
    "\"\"\" \n",
    "take any input from user\n",
    "check the type with if:\n",
    "if type == int -> int\n",
    "float\n",
    "complex\n",
    "bool\n",
    "string\n",
    "\n",
    "\"Unknown Variable\"\n",
    "\"\"\"\n",
    "\n",
    "\"\"\" var = input()\n",
    "if(type(var)==int):\n",
    "    print(it is integer)\"\"\"\n"
   ]
  },
  {
   "cell_type": "code",
   "execution_count": 8,
   "id": "96a95c2b",
   "metadata": {},
   "outputs": [
    {
     "name": "stdout",
     "output_type": "stream",
     "text": [
      "Enter a number: 4\n",
      "your number is less than 10\n"
     ]
    }
   ],
   "source": [
    "# nested if\n",
    "\n",
    "x = int(input(\"Enter a number: \"))\n",
    "\n",
    "if x>10:\n",
    "    print(\"Your number is greater than 10,\")\n",
    "    if x>20:\n",
    "        print(\"and also above 20\")\n",
    "    else:\n",
    "        print(\"but not above 20\")\n",
    "else:\n",
    "    print(\"your number is less than 10\")"
   ]
  },
  {
   "cell_type": "code",
   "execution_count": null,
   "id": "b102a1a2",
   "metadata": {},
   "outputs": [],
   "source": [
    "x = int(input(\"Enter a number: \"))\n",
    "\n",
    "if x>10:\n",
    "    print(\"Your number is greater than 10\")\n",
    "    print(\"Inside the top if condition\")\n",
    "    if x>20:\n",
    "        print(\"and also above 20\")\n",
    "        print(\"we are inside the nested if condition\")\n",
    "        if x>30:\n",
    "            print(\"above 30\")\n",
    "        else:\n",
    "            print(\"less than 30\")\n",
    "    else:\n",
    "        print(\"but not above 20\")\n",
    "        print(\"we are inside the nested else condition\")\n",
    "else:\n",
    "    print(\"your number is less than 10\")\n",
    "    print(\"we are inside the top else condition \")\n",
    "print(\"We are outside of if\")"
   ]
  },
  {
   "cell_type": "code",
   "execution_count": 12,
   "id": "be3111fe",
   "metadata": {},
   "outputs": [
    {
     "name": "stdout",
     "output_type": "stream",
     "text": [
      "Enter a real no: -46.9\n",
      "Even\n"
     ]
    }
   ],
   "source": [
    "#Checking No is even or odd by extracting numbers before decimal\n",
    "x = float(input(\"Enter a real no: \"))\n",
    "y = round(x)\n",
    "if x>0:\n",
    "    if y>x:\n",
    "        intPortion = y-1 \n",
    "    else:\n",
    "        intPortion = y\n",
    "else:\n",
    "    if y<x:\n",
    "        intPortion = y+1\n",
    "    else:\n",
    "        intPortion = y\n",
    "\n",
    "if intPortion%2 == 0:\n",
    "    print(\"Even\")\n",
    "else:\n",
    "    print(\"odd\")\n"
   ]
  },
  {
   "cell_type": "code",
   "execution_count": null,
   "id": "a435c11b",
   "metadata": {},
   "outputs": [],
   "source": []
  }
 ],
 "metadata": {
  "kernelspec": {
   "display_name": "Python 3 (ipykernel)",
   "language": "python",
   "name": "python3"
  },
  "language_info": {
   "codemirror_mode": {
    "name": "ipython",
    "version": 3
   },
   "file_extension": ".py",
   "mimetype": "text/x-python",
   "name": "python",
   "nbconvert_exporter": "python",
   "pygments_lexer": "ipython3",
   "version": "3.11.5"
  }
 },
 "nbformat": 4,
 "nbformat_minor": 5
}
