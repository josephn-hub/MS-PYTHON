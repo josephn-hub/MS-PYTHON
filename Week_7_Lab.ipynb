{
 "cells": [
  {
   "cell_type": "markdown",
   "id": "51ExzXJKy9BO",
   "metadata": {
    "id": "51ExzXJKy9BO"
   },
   "source": [
    "# File I/O Handling"
   ]
  },
  {
   "cell_type": "markdown",
   "id": "zWX56-L8zDL8",
   "metadata": {
    "id": "zWX56-L8zDL8"
   },
   "source": [
    "File handling in Python allows for user-friendly operations to work with files. Through Python's built-in functions, one can open, read, write, and close files. This permits data storage and retrieval, making it possible to persistently work with large datasets and perform file-related tasks like data analytics, log parsing, and more. Python's file handling mechanisms are OS-independent, ensuring smooth operations across different platforms."
   ]
  },
  {
   "cell_type": "markdown",
   "id": "XbpI79cU0J0m",
   "metadata": {
    "id": "XbpI79cU0J0m"
   },
   "source": [
    "**1. Writing to a file**"
   ]
  },
  {
   "cell_type": "code",
   "execution_count": 1,
   "id": "_n21lzHAz-bl",
   "metadata": {
    "id": "_n21lzHAz-bl"
   },
   "outputs": [],
   "source": [
    "with open('sample.txt', 'w') as file:\n",
    "    file.write('Hello, World!')\n"
   ]
  },
  {
   "cell_type": "markdown",
   "id": "pTE6QrIC0MAU",
   "metadata": {
    "id": "pTE6QrIC0MAU"
   },
   "source": [
    "**2. Reading from a file**"
   ]
  },
  {
   "cell_type": "code",
   "execution_count": 2,
   "id": "kAr6UkE30Avi",
   "metadata": {
    "colab": {
     "base_uri": "https://localhost:8080/"
    },
    "id": "kAr6UkE30Avi",
    "outputId": "fa71202c-1224-4e0e-c947-0a011a96db75"
   },
   "outputs": [
    {
     "name": "stdout",
     "output_type": "stream",
     "text": [
      "Hello, World!\n"
     ]
    }
   ],
   "source": [
    "with open('sample.txt', 'r') as file:\n",
    "    content = file.read()\n",
    "    print(content)"
   ]
  },
  {
   "cell_type": "code",
   "execution_count": 3,
   "id": "blI3Kesv0S4D",
   "metadata": {
    "id": "blI3Kesv0S4D"
   },
   "outputs": [],
   "source": [
    "# File Opening Modes\n",
    "# 'r' - Default value. Opens a file for reading, error if the file does not exist\n",
    "# 'a' - Opens a file for appending, creates the file if it does not exist\n",
    "# 'w' - Opens a file for writing, creates the file if it does not exist\n",
    "# 'x' - Opens a file for exclusive creation, if the file exists the operation fails"
   ]
  },
  {
   "cell_type": "markdown",
   "id": "AGSf55JK0VF8",
   "metadata": {
    "id": "AGSf55JK0VF8"
   },
   "source": [
    "**3. Appending to a file**"
   ]
  },
  {
   "cell_type": "code",
   "execution_count": 4,
   "id": "R6tuTKBW0G83",
   "metadata": {
    "id": "R6tuTKBW0G83"
   },
   "outputs": [],
   "source": [
    "with open('sample.txt', 'a') as file:\n",
    "    file.write('\\nAppended Text!')"
   ]
  },
  {
   "cell_type": "markdown",
   "id": "HLypmvEb0Yp0",
   "metadata": {
    "id": "HLypmvEb0Yp0"
   },
   "source": [
    "**4. Trying exclusive creation mode**"
   ]
  },
  {
   "cell_type": "code",
   "execution_count": 5,
   "id": "ganzey460XT0",
   "metadata": {
    "colab": {
     "base_uri": "https://localhost:8080/"
    },
    "id": "ganzey460XT0",
    "outputId": "d7996449-3524-4f73-b305-094a7a87e09f"
   },
   "outputs": [
    {
     "name": "stdout",
     "output_type": "stream",
     "text": [
      "File already exists!\n"
     ]
    }
   ],
   "source": [
    "try:\n",
    "    with open('sample.txt', 'x') as file:\n",
    "        file.write('Exclusive Creation!')\n",
    "except FileExistsError:\n",
    "    print(\"File already exists!\")"
   ]
  },
  {
   "cell_type": "markdown",
   "id": "V2Fbw6vS0ook",
   "metadata": {
    "id": "V2Fbw6vS0ook"
   },
   "source": [
    "## Manipulating files and directories"
   ]
  },
  {
   "cell_type": "code",
   "execution_count": 6,
   "id": "rEHh5WBS0aW6",
   "metadata": {
    "id": "rEHh5WBS0aW6"
   },
   "outputs": [],
   "source": [
    "import os"
   ]
  },
  {
   "cell_type": "markdown",
   "id": "pxuDrlR50r3E",
   "metadata": {
    "id": "pxuDrlR50r3E"
   },
   "source": [
    "**5. Rename a file**"
   ]
  },
  {
   "cell_type": "code",
   "execution_count": 7,
   "id": "8KNZQlJ10nYw",
   "metadata": {
    "id": "8KNZQlJ10nYw"
   },
   "outputs": [],
   "source": [
    "os.rename('sample.txt', 'new_sample.txt')"
   ]
  },
  {
   "cell_type": "markdown",
   "id": "aeQCW6pH0wFw",
   "metadata": {
    "id": "aeQCW6pH0wFw"
   },
   "source": [
    "**6. Remove a file**"
   ]
  },
  {
   "cell_type": "code",
   "execution_count": 8,
   "id": "bZ5MAo-D0tVt",
   "metadata": {
    "id": "bZ5MAo-D0tVt"
   },
   "outputs": [],
   "source": [
    "os.remove('new_sample.txt')"
   ]
  },
  {
   "cell_type": "markdown",
   "id": "pq3jet-D09I_",
   "metadata": {
    "id": "pq3jet-D09I_"
   },
   "source": [
    "**7. Create a directory**"
   ]
  },
  {
   "cell_type": "code",
   "execution_count": 9,
   "id": "5C5BnNTH0ysC",
   "metadata": {
    "id": "5C5BnNTH0ysC"
   },
   "outputs": [],
   "source": [
    "os.mkdir('sample_directory')"
   ]
  },
  {
   "cell_type": "markdown",
   "id": "YZpc4OoX1BCF",
   "metadata": {
    "id": "YZpc4OoX1BCF"
   },
   "source": [
    "**8. Change current working directory**"
   ]
  },
  {
   "cell_type": "code",
   "execution_count": 10,
   "id": "W-9JFEun0_Mp",
   "metadata": {
    "id": "W-9JFEun0_Mp"
   },
   "outputs": [],
   "source": [
    "os.chdir('sample_directory')"
   ]
  },
  {
   "cell_type": "markdown",
   "id": "-VOqSCvq1FEc",
   "metadata": {
    "id": "-VOqSCvq1FEc"
   },
   "source": [
    "**9. Get current working directory**"
   ]
  },
  {
   "cell_type": "code",
   "execution_count": 11,
   "id": "XsZ19AFC1DsO",
   "metadata": {
    "colab": {
     "base_uri": "https://localhost:8080/"
    },
    "id": "XsZ19AFC1DsO",
    "outputId": "79281a02-c125-4cc8-f220-d35dc8833e08"
   },
   "outputs": [
    {
     "name": "stdout",
     "output_type": "stream",
     "text": [
      "/Users/josephkambham/Downloads/sample_directory\n"
     ]
    }
   ],
   "source": [
    "print(os.getcwd())  # Outputs the path of the 'sample_directory'"
   ]
  },
  {
   "cell_type": "markdown",
   "id": "0ESZgd7B1JMA",
   "metadata": {
    "id": "0ESZgd7B1JMA"
   },
   "source": [
    "**10. Remove a directory**"
   ]
  },
  {
   "cell_type": "code",
   "execution_count": 12,
   "id": "6RXvuTKw1H7E",
   "metadata": {
    "id": "6RXvuTKw1H7E"
   },
   "outputs": [],
   "source": [
    "os.chdir('../')\n",
    "os.rmdir('sample_directory')"
   ]
  },
  {
   "cell_type": "markdown",
   "id": "QtkwLbijJcOH",
   "metadata": {
    "id": "QtkwLbijJcOH"
   },
   "source": [
    "# Exception Handling"
   ]
  },
  {
   "cell_type": "markdown",
   "id": "BKaRo-HPJiD2",
   "metadata": {
    "id": "BKaRo-HPJiD2"
   },
   "source": [
    "Exception handling is a mechanism in programming that handles runtime errors, ensuring that the execution of the program doesn't abruptly halt. In Python, this is achieved using the try, except blocks. The code that might raise an exception is placed inside the try block. If an error occurs, the code inside the except block is executed."
   ]
  },
  {
   "cell_type": "code",
   "execution_count": 13,
   "id": "g9ygu-w51K_2",
   "metadata": {
    "colab": {
     "base_uri": "https://localhost:8080/"
    },
    "executionInfo": {
     "elapsed": 12,
     "status": "ok",
     "timestamp": 1697621885609,
     "user": {
      "displayName": "Academics Careerera",
      "userId": "09489366406537911155"
     },
     "user_tz": -330
    },
    "id": "g9ygu-w51K_2",
    "outputId": "7447f111-08dc-4874-b00f-9d7ec18dc59f"
   },
   "outputs": [
    {
     "name": "stdout",
     "output_type": "stream",
     "text": [
      "Function executed\n",
      "5.0\n",
      "Function executed\n",
      "Division by zero is not allowed!\n",
      "Function executed\n",
      "Please enter numbers only!\n"
     ]
    }
   ],
   "source": [
    "def divide_numbers(num1, num2):\n",
    "    try:\n",
    "        result = num1 / num2\n",
    "        return result\n",
    "    except ZeroDivisionError:\n",
    "        return \"Division by zero is not allowed!\"\n",
    "    except TypeError:\n",
    "        return \"Please enter numbers only!\"\n",
    "    finally:\n",
    "        print(\"Function executed\")\n",
    "\n",
    "# Testing the function\n",
    "print(divide_numbers(10, 2))  # Expected: 5.0\n",
    "print(divide_numbers(10, 0))  # Expected: Division by zero is not allowed!\n",
    "print(divide_numbers(10, 'a'))  # Expected: Please enter numbers only!\n"
   ]
  },
  {
   "cell_type": "code",
   "execution_count": 14,
   "id": "NLoiwUERJjf4",
   "metadata": {
    "id": "NLoiwUERJjf4"
   },
   "outputs": [],
   "source": [
    "# In this example, we have a function that divides two numbers.\n"
   ]
  },
  {
   "cell_type": "code",
   "execution_count": null,
   "id": "c40ba254",
   "metadata": {},
   "outputs": [],
   "source": []
  }
 ],
 "metadata": {
  "colab": {
   "provenance": []
  },
  "kernelspec": {
   "display_name": "Python 3 (ipykernel)",
   "language": "python",
   "name": "python3"
  },
  "language_info": {
   "codemirror_mode": {
    "name": "ipython",
    "version": 3
   },
   "file_extension": ".py",
   "mimetype": "text/x-python",
   "name": "python",
   "nbconvert_exporter": "python",
   "pygments_lexer": "ipython3",
   "version": "3.11.5"
  }
 },
 "nbformat": 4,
 "nbformat_minor": 5
}
