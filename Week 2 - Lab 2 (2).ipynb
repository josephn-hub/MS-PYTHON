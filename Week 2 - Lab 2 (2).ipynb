{
 "cells": [
  {
   "cell_type": "markdown",
   "id": "8353504f",
   "metadata": {},
   "source": [
    "# Control Flow\n"
   ]
  },
  {
   "cell_type": "code",
   "execution_count": 1,
   "id": "f66aabcd",
   "metadata": {},
   "outputs": [
    {
     "name": "stdout",
     "output_type": "stream",
     "text": [
      "6\n",
      "7\n",
      "I am outside the if condition\n"
     ]
    }
   ],
   "source": [
    "# simple if condition\n",
    "a = int(input())\n",
    "b = int(input())\n",
    "if a>b:\n",
    "    print(a)\n",
    "    print(\"I am inside the if condition\")\n",
    "print(\"I am outside the if condition\")"
   ]
  },
  {
   "cell_type": "code",
   "execution_count": 2,
   "id": "1904fdbe",
   "metadata": {},
   "outputs": [
    {
     "name": "stdout",
     "output_type": "stream",
     "text": [
      "Enter your 1st no:88\n",
      "Enter your 2nd no:67\n",
      "88\n"
     ]
    }
   ],
   "source": [
    "a = int(input(\"Enter your 1st no:\"))\n",
    "b = int(input(\"Enter your 2nd no:\"))\n",
    "if a>b:\n",
    "    print(a)\n",
    "if b>a:\n",
    "    print(b)"
   ]
  },
  {
   "cell_type": "code",
   "execution_count": 4,
   "id": "53a850ca",
   "metadata": {},
   "outputs": [
    {
     "name": "stdout",
     "output_type": "stream",
     "text": [
      "Enter your 1st no:45\n",
      "Enter your 2nd no:56\n",
      "56\n",
      "we are inside else statement\n",
      "Hello\n"
     ]
    }
   ],
   "source": [
    "# use of else clause\n",
    "a = int(input(\"Enter your 1st no:\"))\n",
    "b = int(input(\"Enter your 2nd no:\"))\n",
    "if a>b:\n",
    "    print(a)\n",
    "    print(\"we are inside if statement\")\n",
    "else:\n",
    "    print(b)\n",
    "    print(\"we are inside else statement\")\n",
    "print(\"Hello\")"
   ]
  },
  {
   "cell_type": "code",
   "execution_count": 5,
   "id": "482f0304",
   "metadata": {},
   "outputs": [
    {
     "name": "stdout",
     "output_type": "stream",
     "text": [
      "Enter your 1st number89\n",
      "Enter your 2nd number35\n",
      "a is greater than b\n"
     ]
    }
   ],
   "source": [
    "# use of elif clause\n",
    "a= float(input(\"Enter your 1st number\"))\n",
    "b = float(input(\"Enter your 2nd number\"))\n",
    "\n",
    "if (a>b):\n",
    "    print(\"a is greater than b\")\n",
    "elif (a==b):\n",
    "        print(\"a and b are equal\")\n",
    "else:\n",
    "    print(\"b is greater than a\")"
   ]
  },
  {
   "cell_type": "code",
   "execution_count": null,
   "id": "611f0c6b",
   "metadata": {},
   "outputs": [],
   "source": [
    "\"\"\"  Take marks from user. \n",
    ">=85 (a+)\n",
    "<85 >=80 (a)\n",
    "<80 >=75 (b+)\n",
    "<75 >=70 (b)\n",
    "Below Average\n",
    "\"\"\"\n",
    "\n",
    "a = int(input(\"Enter your marks: \"))\n",
    "if a>=85:\n",
    "    print(\"A+ Grade\")\n",
    "elif a < 85 and a >= 80:\n",
    "    print(\"A Grade\")\n",
    "elif a < 80 and a >= 75:\n",
    "    print(\"B+ Grade\")\n",
    "elif a < 75 and a >= 70:\n",
    "    print(\"B Grade\")\n",
    "else:\n",
    "    print(\"Below Average\")\n"
   ]
  },
  {
   "cell_type": "code",
   "execution_count": 2,
   "id": "151c9bef",
   "metadata": {},
   "outputs": [
    {
     "name": "stdout",
     "output_type": "stream",
     "text": [
      "Enter any value: ink\n",
      "Invalid complex number format.\n"
     ]
    }
   ],
   "source": [
    "\"\"\"Enter his age\n",
    "1- 6 yrs (child)\n",
    ">= 6 <12 ()\n",
    ">= 12 <20 (tennager)\n",
    ">=20 <35 (Adult)\n",
    "Grown up\n",
    "\"\"\"\n",
    "# age = int(input(\"Enter your age: \"))\n",
    "# if age<6 and age >=1:\n",
    "#     print(\"child\")\n",
    "# elif age < 12 and age >= 6:\n",
    "#     pass\n",
    "# elif age < 20 and age >= 12:\n",
    "#     print(\"Teenager\")\n",
    "# elif age < 35 and age >= 20:\n",
    "#     print(\"Adult\")\n",
    "# else:\n",
    "#     print(\"Grown up\")\n",
    "\n",
    "# practice elif statment\n",
    "\"\"\" \n",
    "take any input from user\n",
    "check the type with if:\n",
    "if type == int -> int\n",
    "float\n",
    "complex\n",
    "bool\n",
    "string\n",
    "\n",
    "\"Unknown Variable\"\n",
    "\"\"\"\n",
    "\n",
    "# Sol1:\n",
    "# user_input = input(\"Enter something: \")\n",
    "\n",
    "# if int(user_input) == int:\n",
    "#     print(\"Input is an integer.\")\n",
    "# elif float(user_input) == float:\n",
    "#     print(\"Input is a float.\")\n",
    "# elif str(user_input) == str:\n",
    "#     print(\"Input is a string.\")\n",
    "# elif type(user_input) == bool:\n",
    "#     print(\"Input is boolean\")\n",
    "# else:\n",
    "#     print(\"Input is of unknown type.\")\n",
    "\n",
    "# Sol2:\n",
    "\n",
    "# ​​​​​​if (isinstance(user_input, int)) == True:\n",
    "#     print(\"Input is int\")\n",
    "# elif (isinstance(user_input, str)) == True:\n",
    "#     print(\"Input is string\")\n",
    "# elif (isinstance(user_input, bool)) == True:\n",
    "#     print(\"Input is boolean\")\n",
    "# elif (isinstance(user_input, complex)) == True:\n",
    "#     print(\"Input is complex\")\n",
    "# else :\n",
    "#     print(\"Unknown type\")\n",
    "\n",
    "user_input = input(\"Enter any value: \")\n",
    "\n",
    "try:\n",
    "    user_input = int(user_input)\n",
    "    print(\"The type is integer.\")\n",
    "except ValueError:\n",
    "    try:\n",
    "        user_input = float(user_input)\n",
    "        print(\"The type is float.\")\n",
    "    except ValueError:\n",
    "        if user_input.lower() == \"true\" or user_input.lower() == \"false\":\n",
    "            user_input = bool(user_input)\n",
    "            print(\"The type is boolean.\")\n",
    "        elif \"i\" in user_input or \"j\" in user_input:\n",
    "            \n",
    "            try:\n",
    "                user_input = complex(user_input)\n",
    "                print(\"The type is complex.\")\n",
    "            except ValueError:\n",
    "               \n",
    "                print(\"Invalid complex number format.\")\n",
    "        elif user_input.isalpha():\n",
    "            print(\"The type is alphabetic string.\")\n",
    "        elif user_input.isalnum():\n",
    "            print(\"The type is alphanumeric string.\")\n",
    "        else:\n",
    "            print(\"Unknown Variable\")\n"
   ]
  },
  {
   "cell_type": "code",
   "execution_count": null,
   "id": "e093b0f0",
   "metadata": {},
   "outputs": [],
   "source": [
    "# nested if\n",
    "\n",
    "x = int(input(\"Enter a number: \"))\n",
    "\n",
    "if x>10:\n",
    "    print(\"Your number is greater than 10,\")\n",
    "    if x>20:\n",
    "        print(\"and also above 20\")\n",
    "    else:\n",
    "        print(\"but not above 20\")\n",
    "else:\n",
    "    print(\"your number is less than 10\")"
   ]
  },
  {
   "cell_type": "code",
   "execution_count": 27,
   "id": "b102a1a2",
   "metadata": {},
   "outputs": [
    {
     "name": "stdout",
     "output_type": "stream",
     "text": [
      "Enter a number: 45\n",
      "Your number is greater than 10\n",
      "Inside the top if condition\n",
      "and also above 20\n",
      "we are inside the nested if condition\n",
      "above 30\n",
      "We are outside of if\n"
     ]
    }
   ],
   "source": [
    "x = int(input(\"Enter a number: \"))\n",
    "\n",
    "if x>10:\n",
    "    print(\"Your number is greater than 10\")\n",
    "    print(\"Inside the top if condition\")\n",
    "    if x>20:\n",
    "        print(\"and also above 20\")\n",
    "        print(\"we are inside the nested if condition\")\n",
    "        if x>30:\n",
    "            print(\"above 30\")\n",
    "        else:\n",
    "            print(\"less than 30\")\n",
    "    else:\n",
    "        print(\"but not above 20\")\n",
    "        print(\"we are inside the nested else condition\")\n",
    "else:\n",
    "    print(\"your number is less than 10\")\n",
    "    print(\"we are inside the top else condition \")\n",
    "print(\"We are outside of if\")"
   ]
  },
  {
   "cell_type": "code",
   "execution_count": 28,
   "id": "be3111fe",
   "metadata": {},
   "outputs": [
    {
     "name": "stdout",
     "output_type": "stream",
     "text": [
      "Enter a real no: 56.78\n",
      "Even\n"
     ]
    }
   ],
   "source": [
    "#Checking No is even or odd by extracting numbers before decimal\n",
    "x = float(input(\"Enter a real no: \"))\n",
    "y = round(x)\n",
    "if x>0:\n",
    "    if y>x:\n",
    "        intPortion = y-1 \n",
    "    else:\n",
    "        intPortion = y\n",
    "else:\n",
    "    if y<x:\n",
    "        intPortion = y+1\n",
    "    else:\n",
    "        intPortion = y\n",
    "\n",
    "if intPortion%2 == 0:\n",
    "    print(\"Even\")\n",
    "else:\n",
    "    print(\"odd\")\n"
   ]
  },
  {
   "cell_type": "code",
   "execution_count": 31,
   "id": "a435c11b",
   "metadata": {},
   "outputs": [
    {
     "name": "stdout",
     "output_type": "stream",
     "text": [
      "Enter a real no: 44.23\n",
      "44\n"
     ]
    }
   ],
   "source": [
    "x = float(input(\"Enter a real no: \"))\n",
    "y = round(x)\n",
    "print(y)"
   ]
  },
  {
   "cell_type": "code",
   "execution_count": null,
   "id": "d2b1ea52",
   "metadata": {},
   "outputs": [],
   "source": []
  }
 ],
 "metadata": {
  "kernelspec": {
   "display_name": "Python 3 (ipykernel)",
   "language": "python",
   "name": "python3"
  },
  "language_info": {
   "codemirror_mode": {
    "name": "ipython",
    "version": 3
   },
   "file_extension": ".py",
   "mimetype": "text/x-python",
   "name": "python",
   "nbconvert_exporter": "python",
   "pygments_lexer": "ipython3",
   "version": "3.11.5"
  }
 },
 "nbformat": 4,
 "nbformat_minor": 5
}
