{
 "cells": [
  {
   "cell_type": "markdown",
   "id": "e67b0f35",
   "metadata": {},
   "source": [
    "# range"
   ]
  },
  {
   "cell_type": "code",
   "execution_count": 1,
   "id": "05042756",
   "metadata": {},
   "outputs": [
    {
     "data": {
      "text/plain": [
       "range(0, 6)"
      ]
     },
     "execution_count": 1,
     "metadata": {},
     "output_type": "execute_result"
    }
   ],
   "source": [
    "range(6)"
   ]
  },
  {
   "cell_type": "code",
   "execution_count": 2,
   "id": "ccbc0918",
   "metadata": {},
   "outputs": [
    {
     "name": "stdout",
     "output_type": "stream",
     "text": [
      "range(0, 6)\n"
     ]
    }
   ],
   "source": [
    "a = range(6)\n",
    "print(a)"
   ]
  },
  {
   "cell_type": "code",
   "execution_count": 3,
   "id": "98f524f3",
   "metadata": {},
   "outputs": [
    {
     "name": "stdout",
     "output_type": "stream",
     "text": [
      "0\n",
      "1\n",
      "2\n",
      "3\n",
      "4\n",
      "Done\n"
     ]
    }
   ],
   "source": [
    "# range(number after the ending value)- starts from zero if no start value mentioned\n",
    "for i in range(5):\n",
    "    print(i)\n",
    "print(\"Done\")"
   ]
  },
  {
   "cell_type": "code",
   "execution_count": 4,
   "id": "d0ef5b5d",
   "metadata": {},
   "outputs": [
    {
     "name": "stdout",
     "output_type": "stream",
     "text": [
      "1\n",
      "2\n",
      "3\n",
      "4\n",
      "5\n",
      "6\n",
      "Done\n"
     ]
    }
   ],
   "source": [
    "# range(starting value, number after the ending value)\n",
    "for i in range(1,7):\n",
    "    print(i)\n",
    "print(\"Done\")"
   ]
  },
  {
   "cell_type": "code",
   "execution_count": 5,
   "id": "5d5e0ffd",
   "metadata": {},
   "outputs": [
    {
     "name": "stdout",
     "output_type": "stream",
     "text": [
      "2\n",
      "7\n",
      "12\n",
      "17\n",
      "22\n",
      "27\n",
      "Done\n"
     ]
    }
   ],
   "source": [
    "# range(starting value, number after the ending value, increment value)\n",
    "for i in range(2,31,5):\n",
    "    print(i)\n",
    "print(\"Done\")"
   ]
  },
  {
   "cell_type": "code",
   "execution_count": 6,
   "id": "2e9b441e",
   "metadata": {},
   "outputs": [
    {
     "name": "stdout",
     "output_type": "stream",
     "text": [
      "0\n",
      "1\n",
      "3\n",
      "6\n",
      "10\n",
      "15\n",
      "21\n",
      "28\n",
      "36\n",
      "45\n"
     ]
    }
   ],
   "source": [
    "sum = 0\n",
    "for i in range(10):\n",
    "    sum = sum+i\n",
    "    print(sum)"
   ]
  },
  {
   "cell_type": "markdown",
   "id": "4b37f069",
   "metadata": {},
   "source": [
    "# List"
   ]
  },
  {
   "cell_type": "code",
   "execution_count": 7,
   "id": "d5aa1914",
   "metadata": {},
   "outputs": [],
   "source": [
    "Subjects = ['Physics','Chemistry','Maths']\n",
    "Games = ['Football','Cricket','Tennis']"
   ]
  },
  {
   "cell_type": "code",
   "execution_count": 8,
   "id": "7b8cff76",
   "metadata": {},
   "outputs": [
    {
     "name": "stdout",
     "output_type": "stream",
     "text": [
      "['Physics', 'Chemistry', 'Maths']\n"
     ]
    }
   ],
   "source": [
    "print(Subjects)"
   ]
  },
  {
   "cell_type": "code",
   "execution_count": 9,
   "id": "e1e80d4a",
   "metadata": {},
   "outputs": [
    {
     "name": "stdout",
     "output_type": "stream",
     "text": [
      "['Physics', 'Chemistry', 'Maths', 'History']\n"
     ]
    }
   ],
   "source": [
    "#Append - adds the element at the end of the list\n",
    "Subjects.append('History')\n",
    "print(Subjects)"
   ]
  },
  {
   "cell_type": "code",
   "execution_count": 11,
   "id": "2db7fb65",
   "metadata": {},
   "outputs": [
    {
     "name": "stdout",
     "output_type": "stream",
     "text": [
      "['Physics', 'Chemistry', 'Biology', 'Biology', 'Maths', 'History']\n"
     ]
    }
   ],
   "source": [
    "#Insert - you can specify the index where you want to insert\n",
    "Subjects.insert(2,'Biology')\n",
    "print(Subjects)"
   ]
  },
  {
   "cell_type": "code",
   "execution_count": 12,
   "id": "d12dfde3",
   "metadata": {},
   "outputs": [
    {
     "name": "stdout",
     "output_type": "stream",
     "text": [
      "['Physics', 'Chemistry', 'Biology', 'Biology', 'Maths', 'History', 'Football', 'Cricket', 'Tennis']\n"
     ]
    }
   ],
   "source": [
    "#Extend - Add another list in existing list\n",
    "Subjects.extend(Games)\n",
    "print(Subjects)"
   ]
  },
  {
   "cell_type": "code",
   "execution_count": 13,
   "id": "70917f8d",
   "metadata": {},
   "outputs": [
    {
     "name": "stdout",
     "output_type": "stream",
     "text": [
      "['Physics', 'Chemistry', 'Biology', 'Biology', 'Maths', 'History', 'Football', 'Tennis']\n"
     ]
    }
   ],
   "source": [
    "#Remove - delete an element\n",
    "Subjects.remove(\"Cricket\")\n",
    "print(Subjects)"
   ]
  },
  {
   "cell_type": "code",
   "execution_count": 14,
   "id": "6715ec28",
   "metadata": {},
   "outputs": [],
   "source": [
    "#clear - clears the entire list"
   ]
  },
  {
   "cell_type": "code",
   "execution_count": 15,
   "id": "4c886f87",
   "metadata": {},
   "outputs": [
    {
     "name": "stdout",
     "output_type": "stream",
     "text": [
      "['Physics', 'Chemistry', 'Biology', 'Biology', 'Maths', 'Football', 'Tennis']\n"
     ]
    }
   ],
   "source": [
    "#pop- delete the elemt in the index value specified\n",
    "Subjects.pop(5)\n",
    "print(Subjects)"
   ]
  },
  {
   "cell_type": "code",
   "execution_count": 16,
   "id": "a1e26faf",
   "metadata": {},
   "outputs": [
    {
     "name": "stdout",
     "output_type": "stream",
     "text": [
      "['Tennis', 'Football', 'Maths', 'Biology', 'Biology', 'Chemistry', 'Physics']\n"
     ]
    }
   ],
   "source": [
    "# Reverse\n",
    "Subjects.reverse()\n",
    "print(Subjects)"
   ]
  },
  {
   "cell_type": "code",
   "execution_count": 17,
   "id": "89a1119a",
   "metadata": {},
   "outputs": [
    {
     "name": "stdout",
     "output_type": "stream",
     "text": [
      "['Tennis', 'Football', 'Maths', 'Biology', 'Biology', 'Chemistry', 'Physics', 'Tennis', 'Football', 'Maths', 'Biology', 'Biology', 'Chemistry', 'Physics']\n"
     ]
    }
   ],
   "source": [
    "#Repetition\n",
    "print(Subjects*2)"
   ]
  },
  {
   "cell_type": "markdown",
   "id": "5df6acbe",
   "metadata": {},
   "source": [
    "# Tuple"
   ]
  },
  {
   "cell_type": "code",
   "execution_count": 18,
   "id": "459e3780",
   "metadata": {},
   "outputs": [
    {
     "name": "stdout",
     "output_type": "stream",
     "text": [
      "('Apple', 'Banana', 'Cherry')\n",
      "('Cucumber', 'Beetroot', 'Onions', 'Potatao')\n"
     ]
    }
   ],
   "source": [
    "Fruits = ('Apple','Banana','Cherry')\n",
    "Vegetables = ('Cucumber', 'Beetroot', 'Onions','Potatao')\n",
    "print(Fruits)\n",
    "print(Vegetables)"
   ]
  },
  {
   "cell_type": "code",
   "execution_count": 19,
   "id": "ddfb6b9a",
   "metadata": {},
   "outputs": [
    {
     "name": "stdout",
     "output_type": "stream",
     "text": [
      "Banana\n"
     ]
    }
   ],
   "source": [
    "#Indexing\n",
    "print(Fruits[1])"
   ]
  },
  {
   "cell_type": "code",
   "execution_count": 20,
   "id": "20693824",
   "metadata": {},
   "outputs": [
    {
     "name": "stdout",
     "output_type": "stream",
     "text": [
      "('Apple', 'Banana')\n"
     ]
    }
   ],
   "source": [
    "#Slicing - Extracting smaller sequence \n",
    "print(Fruits[0:2])"
   ]
  },
  {
   "cell_type": "code",
   "execution_count": 21,
   "id": "8d49293d",
   "metadata": {},
   "outputs": [
    {
     "name": "stdout",
     "output_type": "stream",
     "text": [
      "('Apple', 'Banana', 'Cherry', 'Apple', 'Banana', 'Cherry', 'Apple', 'Banana', 'Cherry', 'Apple', 'Banana', 'Cherry')\n"
     ]
    }
   ],
   "source": [
    "print(Fruits*4)\n"
   ]
  },
  {
   "cell_type": "code",
   "execution_count": 22,
   "id": "f0ce5d22",
   "metadata": {},
   "outputs": [
    {
     "name": "stdout",
     "output_type": "stream",
     "text": [
      "3\n"
     ]
    }
   ],
   "source": [
    "#count - No of occurence of the element in the sequence\n",
    "Letters = ('A','B','C','B','B','D')\n",
    "print(Letters.count(\"B\"))"
   ]
  },
  {
   "cell_type": "code",
   "execution_count": 23,
   "id": "746f89f4",
   "metadata": {},
   "outputs": [
    {
     "name": "stdout",
     "output_type": "stream",
     "text": [
      "('Apple', 'Banana', 'Cherry', 'Cucumber', 'Beetroot', 'Onions', 'Potatao')\n"
     ]
    }
   ],
   "source": [
    "#Concat - Two tuple into a new tuple\n",
    "Kitchen = Fruits + Vegetables\n",
    "print(Kitchen)"
   ]
  },
  {
   "cell_type": "code",
   "execution_count": 24,
   "id": "a1d2770e",
   "metadata": {},
   "outputs": [],
   "source": [
    "# Tuple within a list\n",
    "Word = [('A','B','C'),('E','F','G')]"
   ]
  },
  {
   "cell_type": "code",
   "execution_count": 25,
   "id": "2951a1cc",
   "metadata": {},
   "outputs": [
    {
     "name": "stdout",
     "output_type": "stream",
     "text": [
      "C\n"
     ]
    }
   ],
   "source": [
    "print(Word[0][2])"
   ]
  },
  {
   "cell_type": "code",
   "execution_count": 26,
   "id": "114df542",
   "metadata": {},
   "outputs": [
    {
     "name": "stdout",
     "output_type": "stream",
     "text": [
      "[('A', 'B', 'C'), ('E', 'F', 'G'), ('K', 'L')]\n"
     ]
    }
   ],
   "source": [
    "Word.append(('K','L'))\n",
    "print(Word)"
   ]
  },
  {
   "cell_type": "code",
   "execution_count": null,
   "id": "ef26c54b",
   "metadata": {},
   "outputs": [],
   "source": []
  }
 ],
 "metadata": {
  "kernelspec": {
   "display_name": "Python 3 (ipykernel)",
   "language": "python",
   "name": "python3"
  },
  "language_info": {
   "codemirror_mode": {
    "name": "ipython",
    "version": 3
   },
   "file_extension": ".py",
   "mimetype": "text/x-python",
   "name": "python",
   "nbconvert_exporter": "python",
   "pygments_lexer": "ipython3",
   "version": "3.11.5"
  }
 },
 "nbformat": 4,
 "nbformat_minor": 5
}
