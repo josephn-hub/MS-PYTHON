{
 "cells": [
  {
   "cell_type": "markdown",
   "id": "yQdkgqtce9gr",
   "metadata": {
    "id": "yQdkgqtce9gr"
   },
   "source": [
    "# Conditional Statement in Python"
   ]
  },
  {
   "cell_type": "markdown",
   "id": "_DQpV1flfC_X",
   "metadata": {
    "id": "_DQpV1flfC_X"
   },
   "source": [
    "In Python, conditional statements, primarily `if`, `elif`, and `else`, control the flow of execution based on specified conditions. The `if` statement evaluates a condition, and if `True`, its block of code runs. The optional `elif` and `else` further handle alternative outcomes, allowing for complex decision-making in programs."
   ]
  },
  {
   "cell_type": "markdown",
   "id": "iPcj4kUKfF_F",
   "metadata": {
    "id": "iPcj4kUKfF_F"
   },
   "source": [
    "**Understanding `if` Statements**"
   ]
  },
  {
   "cell_type": "code",
   "execution_count": 1,
   "id": "LFcKN9RofCg6",
   "metadata": {
    "colab": {
     "base_uri": "https://localhost:8080/"
    },
    "id": "LFcKN9RofCg6",
    "outputId": "db93b2db-d5ba-46b3-edd0-725c797acad5"
   },
   "outputs": [
    {
     "name": "stdout",
     "output_type": "stream",
     "text": [
      "x is greater than 5\n"
     ]
    }
   ],
   "source": [
    "# The `if` statement is used to execute a block of code if a condition is true.\n",
    "x = 10\n",
    "\n",
    "if x > 5:\n",
    "    print(\"x is greater than 5\")"
   ]
  },
  {
   "cell_type": "markdown",
   "id": "HBXZ8eBOfOGl",
   "metadata": {
    "id": "HBXZ8eBOfOGl"
   },
   "source": [
    "**Understanding `else` Statements**"
   ]
  },
  {
   "cell_type": "code",
   "execution_count": 2,
   "id": "mr4Qf7IBfL7Z",
   "metadata": {
    "colab": {
     "base_uri": "https://localhost:8080/"
    },
    "id": "mr4Qf7IBfL7Z",
    "outputId": "23b13dbf-1349-47e8-9432-c44b040d60c4"
   },
   "outputs": [
    {
     "name": "stdout",
     "output_type": "stream",
     "text": [
      "y is not greater than 5\n"
     ]
    }
   ],
   "source": [
    "# The `else` statement captures anything which isn't caught by the preceding conditions.\n",
    "y = 3\n",
    "\n",
    "if y > 5:\n",
    "    print(\"y is greater than 5\")\n",
    "else:\n",
    "    print(\"y is not greater than 5\")"
   ]
  },
  {
   "cell_type": "markdown",
   "id": "JQVuHzjOfVXV",
   "metadata": {
    "id": "JQVuHzjOfVXV"
   },
   "source": [
    "**Using `elif` for Multiple Conditions**"
   ]
  },
  {
   "cell_type": "code",
   "execution_count": 3,
   "id": "rXlvlztKfSkK",
   "metadata": {
    "colab": {
     "base_uri": "https://localhost:8080/"
    },
    "id": "rXlvlztKfSkK",
    "outputId": "5daa28ee-2573-425f-a97f-49aa10e0fd3e"
   },
   "outputs": [
    {
     "name": "stdout",
     "output_type": "stream",
     "text": [
      "z is less than 10\n"
     ]
    }
   ],
   "source": [
    "# `elif` allows us to check multiple expressions for TRUE and execute a block of code as soon as one of the conditions evaluates to TRUE.\n",
    "z = 5\n",
    "\n",
    "if z > 10:\n",
    "    print(\"z is greater than 10\")\n",
    "elif z < 10:\n",
    "    print(\"z is less than 10\")\n",
    "else:\n",
    "    print(\"z is equal to 10\")"
   ]
  },
  {
   "cell_type": "markdown",
   "id": "OxnoE-6kfgUC",
   "metadata": {
    "id": "OxnoE-6kfgUC"
   },
   "source": [
    "**Nested `if` Statements**"
   ]
  },
  {
   "cell_type": "code",
   "execution_count": 4,
   "id": "2gcIzxaBfeoL",
   "metadata": {
    "colab": {
     "base_uri": "https://localhost:8080/"
    },
    "id": "2gcIzxaBfeoL",
    "outputId": "eb08d1c5-deaa-4ec5-e3f7-d35d4bddda1a"
   },
   "outputs": [
    {
     "name": "stdout",
     "output_type": "stream",
     "text": [
      "a is greater than 10\n",
      "but not greater than 15\n"
     ]
    }
   ],
   "source": [
    "# We can have `if` statements inside `if` statements, this is called nested if statements.\n",
    "a = 12\n",
    "\n",
    "if a > 10:\n",
    "    print(\"a is greater than 10\")\n",
    "    if a > 15:\n",
    "        print(\"and also greater than 15!\")\n",
    "    else:\n",
    "        print(\"but not greater than 15\")\n"
   ]
  },
  {
   "cell_type": "code",
   "execution_count": null,
   "id": "YJLBaaC2fozq",
   "metadata": {
    "id": "YJLBaaC2fozq"
   },
   "outputs": [],
   "source": []
  }
 ],
 "metadata": {
  "colab": {
   "provenance": []
  },
  "kernelspec": {
   "display_name": "Python 3 (ipykernel)",
   "language": "python",
   "name": "python3"
  },
  "language_info": {
   "codemirror_mode": {
    "name": "ipython",
    "version": 3
   },
   "file_extension": ".py",
   "mimetype": "text/x-python",
   "name": "python",
   "nbconvert_exporter": "python",
   "pygments_lexer": "ipython3",
   "version": "3.11.5"
  }
 },
 "nbformat": 4,
 "nbformat_minor": 5
}
