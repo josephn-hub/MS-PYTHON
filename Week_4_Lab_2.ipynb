{
 "cells": [
  {
   "cell_type": "markdown",
   "id": "nc9o9CVpgaiS",
   "metadata": {
    "id": "nc9o9CVpgaiS"
   },
   "source": [
    "# Looping Statement in Python Programming"
   ]
  },
  {
   "cell_type": "markdown",
   "id": "1siRlxdCgf4i",
   "metadata": {
    "id": "1siRlxdCgf4i"
   },
   "source": [
    "Looping statements in Python, such as `for` and `while`, facilitate code repetition based on conditions. The `for` loop is commonly used to iterate over sequences, while the `while` loop continues as long as its condition remains `True`. These loops enable efficient and repetitive execution without redundancy."
   ]
  },
  {
   "cell_type": "markdown",
   "id": "LjltuU9rnjtN",
   "metadata": {
    "id": "LjltuU9rnjtN"
   },
   "source": [
    "**The for loop**"
   ]
  },
  {
   "cell_type": "code",
   "execution_count": 1,
   "id": "r47WeVMcgeEj",
   "metadata": {
    "colab": {
     "base_uri": "https://localhost:8080/"
    },
    "id": "r47WeVMcgeEj",
    "outputId": "9e63a098-54d9-41ee-a364-187c6d373198"
   },
   "outputs": [
    {
     "name": "stdout",
     "output_type": "stream",
     "text": [
      "apple\n",
      "banana\n",
      "cherry\n"
     ]
    }
   ],
   "source": [
    "# The for loop in Python is used to iterate over a sequence (like a list, tuple, or string).\n",
    "\n",
    "# Example: Print each fruit in a list\n",
    "fruits = [\"apple\", \"banana\", \"cherry\"]\n",
    "for fruit in fruits:\n",
    "    print(fruit)\n"
   ]
  },
  {
   "cell_type": "markdown",
   "id": "9Ozs4JF4nudX",
   "metadata": {
    "id": "9Ozs4JF4nudX"
   },
   "source": [
    "**The range() function**"
   ]
  },
  {
   "cell_type": "code",
   "execution_count": 2,
   "id": "TW5nmenDnr6T",
   "metadata": {
    "colab": {
     "base_uri": "https://localhost:8080/"
    },
    "id": "TW5nmenDnr6T",
    "outputId": "f6b9716a-20ab-4181-b58d-d23a07312882"
   },
   "outputs": [
    {
     "name": "stdout",
     "output_type": "stream",
     "text": [
      "0\n",
      "1\n",
      "2\n",
      "3\n",
      "4\n"
     ]
    }
   ],
   "source": [
    "# To loop through a set of code a specified number of times, we can use the range() function.\n",
    "\n",
    "# Example: Print numbers 0 to 4\n",
    "for num in range(5):\n",
    "    print(num)"
   ]
  },
  {
   "cell_type": "markdown",
   "id": "0x_dgjlin1u7",
   "metadata": {
    "id": "0x_dgjlin1u7"
   },
   "source": [
    "**3. The while loop**"
   ]
  },
  {
   "cell_type": "code",
   "execution_count": 3,
   "id": "5wAQ95Ian0HW",
   "metadata": {
    "colab": {
     "base_uri": "https://localhost:8080/"
    },
    "id": "5wAQ95Ian0HW",
    "outputId": "397ccd2b-8e23-4255-c8f9-402a068091dd"
   },
   "outputs": [
    {
     "name": "stdout",
     "output_type": "stream",
     "text": [
      "1\n",
      "2\n",
      "3\n",
      "4\n",
      "5\n"
     ]
    }
   ],
   "source": [
    "# The while loop lets you execute a set of statements as long as a condition is true.\n",
    "\n",
    "# Example: Print numbers 1 to 5 using while loop\n",
    "num = 1\n",
    "while num <= 5:\n",
    "    print(num)\n",
    "    num += 1"
   ]
  },
  {
   "cell_type": "markdown",
   "id": "uli7gWzdoD9U",
   "metadata": {
    "id": "uli7gWzdoD9U"
   },
   "source": [
    "**Nested Loops**"
   ]
  },
  {
   "cell_type": "code",
   "execution_count": 4,
   "id": "gbs7WMcSoCp6",
   "metadata": {
    "colab": {
     "base_uri": "https://localhost:8080/"
    },
    "id": "gbs7WMcSoCp6",
    "outputId": "ef3cac24-b2cd-463d-d851-bab96878c1ec"
   },
   "outputs": [
    {
     "name": "stdout",
     "output_type": "stream",
     "text": [
      "1 2 3 \n",
      "4 5 6 \n",
      "7 8 9 \n"
     ]
    }
   ],
   "source": [
    "# A nested loop is a loop inside a loop.\n",
    "\n",
    "# Example: Matrix traversal\n",
    "matrix = [\n",
    "    [1, 2, 3],\n",
    "    [4, 5, 6],\n",
    "    [7, 8, 9]\n",
    "]\n",
    "\n",
    "for row in matrix:\n",
    "    for element in row:\n",
    "        print(element, end=\" \")\n",
    "    print()  # Move to the next line after each row"
   ]
  },
  {
   "cell_type": "code",
   "execution_count": 5,
   "id": "cMF2jt1poNtL",
   "metadata": {
    "id": "cMF2jt1poNtL"
   },
   "outputs": [],
   "source": [
    "# Note: The `break` statement can be used to exit a loop prematurely,\n",
    "# and the `continue` statement can be used to skip the current iteration and move to the next one."
   ]
  },
  {
   "cell_type": "markdown",
   "id": "UMU5facCoknf",
   "metadata": {
    "id": "UMU5facCoknf"
   },
   "source": [
    "# Understanding break and continue in Python"
   ]
  },
  {
   "cell_type": "markdown",
   "id": "sh6Xl2xVoxfx",
   "metadata": {
    "id": "sh6Xl2xVoxfx"
   },
   "source": [
    "**The break statement**"
   ]
  },
  {
   "cell_type": "code",
   "execution_count": 6,
   "id": "dC-3psTqoUxP",
   "metadata": {
    "id": "dC-3psTqoUxP"
   },
   "outputs": [],
   "source": [
    "# The `break` statement is used to exit a loop prematurely when a certain condition is met."
   ]
  },
  {
   "cell_type": "code",
   "execution_count": 7,
   "id": "fEl7swI7ozyC",
   "metadata": {
    "colab": {
     "base_uri": "https://localhost:8080/"
    },
    "id": "fEl7swI7ozyC",
    "outputId": "7c3cc8f7-40b0-4657-cce0-d03df7c24b74"
   },
   "outputs": [
    {
     "name": "stdout",
     "output_type": "stream",
     "text": [
      "The first number divisible by 5 is: 10\n"
     ]
    }
   ],
   "source": [
    "# Example: Find the first number divisible by 5 in a list\n",
    "numbers = [1, 3, 7, 9, 10, 13, 15]\n",
    "for num in numbers:\n",
    "    if num % 5 == 0:\n",
    "        print(f\"The first number divisible by 5 is: {num}\")\n",
    "        break"
   ]
  },
  {
   "cell_type": "markdown",
   "id": "YkjfQArspBFB",
   "metadata": {
    "id": "YkjfQArspBFB"
   },
   "source": [
    "**The continue statement**"
   ]
  },
  {
   "cell_type": "code",
   "execution_count": 8,
   "id": "n_EMb-Nio2F0",
   "metadata": {
    "id": "n_EMb-Nio2F0"
   },
   "outputs": [],
   "source": [
    "# The `continue` statement is used to skip the current iteration of the loop and move to the next one."
   ]
  },
  {
   "cell_type": "code",
   "execution_count": 9,
   "id": "Q8-PnnorpFTR",
   "metadata": {
    "colab": {
     "base_uri": "https://localhost:8080/"
    },
    "id": "Q8-PnnorpFTR",
    "outputId": "ba7579e1-6fa1-49f7-aa52-2c1525fb59ad"
   },
   "outputs": [
    {
     "name": "stdout",
     "output_type": "stream",
     "text": [
      "1\n",
      "3\n",
      "7\n",
      "9\n",
      "13\n"
     ]
    }
   ],
   "source": [
    "# Example: Print all numbers except those divisible by 5\n",
    "for num in numbers:\n",
    "    if num % 5 == 0:\n",
    "        continue\n",
    "    print(num)"
   ]
  },
  {
   "cell_type": "code",
   "execution_count": 10,
   "id": "DRJ4h5X0pFeF",
   "metadata": {
    "id": "DRJ4h5X0pFeF"
   },
   "outputs": [],
   "source": [
    "# Note:\n",
    "# - The `break` statement will completely exit the loop.\n",
    "# - The `continue` statement will only skip the current iteration and the loop will continue with the next iteration."
   ]
  },
  {
   "cell_type": "markdown",
   "id": "cIZkEz8yrRA3",
   "metadata": {
    "id": "cIZkEz8yrRA3"
   },
   "source": [
    "**Pass Statement**"
   ]
  },
  {
   "cell_type": "code",
   "execution_count": 11,
   "id": "HUMG2vI5pH8w",
   "metadata": {
    "id": "HUMG2vI5pH8w"
   },
   "outputs": [],
   "source": [
    "# The pass statement in Python is essentially a \"do nothing\" statement that acts as a placeholder."
   ]
  },
  {
   "cell_type": "code",
   "execution_count": 12,
   "id": "22J1PcO1rYyY",
   "metadata": {
    "id": "22J1PcO1rYyY"
   },
   "outputs": [],
   "source": [
    "# Defining a function, but not implementing it yet\n",
    "def not_implemented_function():\n",
    "    pass\n",
    "\n",
    "# This will not raise any error when called\n",
    "not_implemented_function()\n"
   ]
  },
  {
   "cell_type": "code",
   "execution_count": null,
   "id": "hsY19ZIBrZLd",
   "metadata": {
    "id": "hsY19ZIBrZLd"
   },
   "outputs": [],
   "source": []
  }
 ],
 "metadata": {
  "colab": {
   "provenance": []
  },
  "kernelspec": {
   "display_name": "Python 3 (ipykernel)",
   "language": "python",
   "name": "python3"
  },
  "language_info": {
   "codemirror_mode": {
    "name": "ipython",
    "version": 3
   },
   "file_extension": ".py",
   "mimetype": "text/x-python",
   "name": "python",
   "nbconvert_exporter": "python",
   "pygments_lexer": "ipython3",
   "version": "3.11.5"
  }
 },
 "nbformat": 4,
 "nbformat_minor": 5
}
