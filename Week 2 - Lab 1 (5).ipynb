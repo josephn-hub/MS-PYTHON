{
 "cells": [
  {
   "cell_type": "code",
   "execution_count": 27,
   "id": "a4b946f7",
   "metadata": {},
   "outputs": [],
   "source": [
    "a =\"Hello, This is python class\"\n"
   ]
  },
  {
   "cell_type": "code",
   "execution_count": 2,
   "id": "064f01e9",
   "metadata": {},
   "outputs": [
    {
     "name": "stdout",
     "output_type": "stream",
     "text": [
      "HELLO, THIS IS PYTHON CLASS\n"
     ]
    }
   ],
   "source": [
    "print(a.upper())"
   ]
  },
  {
   "cell_type": "code",
   "execution_count": 3,
   "id": "8d6c6a6e",
   "metadata": {},
   "outputs": [
    {
     "name": "stdout",
     "output_type": "stream",
     "text": [
      "hello, this is python class\n"
     ]
    }
   ],
   "source": [
    "print(a.lower())"
   ]
  },
  {
   "cell_type": "code",
   "execution_count": 4,
   "id": "03ba2a21",
   "metadata": {},
   "outputs": [
    {
     "name": "stdout",
     "output_type": "stream",
     "text": [
      "Hello, This Is Python Class\n"
     ]
    }
   ],
   "source": [
    "print(a.title())"
   ]
  },
  {
   "cell_type": "code",
   "execution_count": 5,
   "id": "97c03df8",
   "metadata": {},
   "outputs": [
    {
     "name": "stdout",
     "output_type": "stream",
     "text": [
      "Hello, this is python class\n"
     ]
    }
   ],
   "source": [
    "print(a.capitalize())"
   ]
  },
  {
   "cell_type": "code",
   "execution_count": 6,
   "id": "0705a243",
   "metadata": {},
   "outputs": [
    {
     "name": "stdout",
     "output_type": "stream",
     "text": [
      "hELLO, tHIS IS PYTHON CLASS\n"
     ]
    }
   ],
   "source": [
    "print(a.swapcase())"
   ]
  },
  {
   "cell_type": "code",
   "execution_count": 7,
   "id": "dd670fbd",
   "metadata": {},
   "outputs": [
    {
     "name": "stdout",
     "output_type": "stream",
     "text": [
      "Hemnoo, This is python class\n"
     ]
    }
   ],
   "source": [
    "print(a.replace('ll','mno'))"
   ]
  },
  {
   "cell_type": "markdown",
   "id": "ff43c51c",
   "metadata": {},
   "source": [
    "# splitting with split function without delimiter"
   ]
  },
  {
   "cell_type": "code",
   "execution_count": 8,
   "id": "f2da6683",
   "metadata": {},
   "outputs": [
    {
     "name": "stdout",
     "output_type": "stream",
     "text": [
      "['Hello, Th', 's ', 's python class']\n"
     ]
    }
   ],
   "source": [
    "print(a.split(\"i\"))"
   ]
  },
  {
   "cell_type": "code",
   "execution_count": 9,
   "id": "a7d644c6",
   "metadata": {},
   "outputs": [
    {
     "name": "stdout",
     "output_type": "stream",
     "text": [
      "['Hello, Thi', ' i', ' python cla', '', '']\n"
     ]
    }
   ],
   "source": [
    "print(a.split(\"s\"))"
   ]
  },
  {
   "cell_type": "markdown",
   "id": "5dfd938e",
   "metadata": {},
   "source": [
    "# splitting with delimiter using \"RE\" Package"
   ]
  },
  {
   "cell_type": "code",
   "execution_count": 23,
   "id": "e3d82a77",
   "metadata": {},
   "outputs": [],
   "source": [
    "import re"
   ]
  },
  {
   "cell_type": "code",
   "execution_count": 12,
   "id": "2b0fedeb",
   "metadata": {},
   "outputs": [
    {
     "name": "stdout",
     "output_type": "stream",
     "text": [
      "['Hello', ',', ' This is python class']\n"
     ]
    }
   ],
   "source": [
    "print(re.split(r'(,)',a))"
   ]
  },
  {
   "cell_type": "code",
   "execution_count": 28,
   "id": "e0dfeace",
   "metadata": {},
   "outputs": [
    {
     "name": "stdout",
     "output_type": "stream",
     "text": [
      "['Hello, This is py', 't', 'h', 'on class']\n"
     ]
    }
   ],
   "source": [
    "print(re.split(r'(t)(h)',a))"
   ]
  },
  {
   "cell_type": "markdown",
   "id": "bd7c1540",
   "metadata": {},
   "source": [
    "# Built-in Functions"
   ]
  },
  {
   "cell_type": "code",
   "execution_count": 13,
   "id": "75886deb",
   "metadata": {},
   "outputs": [
    {
     "name": "stdout",
     "output_type": "stream",
     "text": [
      "This is a code\n"
     ]
    }
   ],
   "source": [
    "print(\"This is a code\")"
   ]
  },
  {
   "cell_type": "markdown",
   "id": "76eb8fb4",
   "metadata": {},
   "source": [
    "# round off function with single argument"
   ]
  },
  {
   "cell_type": "code",
   "execution_count": 14,
   "id": "200ea218",
   "metadata": {},
   "outputs": [
    {
     "name": "stdout",
     "output_type": "stream",
     "text": [
      "8\n"
     ]
    }
   ],
   "source": [
    "print(round(8.2762))"
   ]
  },
  {
   "cell_type": "markdown",
   "id": "fea8ff64",
   "metadata": {},
   "source": [
    "# round off function with two argument"
   ]
  },
  {
   "cell_type": "code",
   "execution_count": 15,
   "id": "62188d7c",
   "metadata": {},
   "outputs": [
    {
     "name": "stdout",
     "output_type": "stream",
     "text": [
      "8.946\n"
     ]
    }
   ],
   "source": [
    "print(round(8.9456,3))"
   ]
  },
  {
   "cell_type": "code",
   "execution_count": 16,
   "id": "b03a76c7",
   "metadata": {},
   "outputs": [
    {
     "name": "stdout",
     "output_type": "stream",
     "text": [
      "8.98\n"
     ]
    }
   ],
   "source": [
    "a = 8.97654\n",
    "print(round(a,2))"
   ]
  },
  {
   "cell_type": "code",
   "execution_count": 17,
   "id": "d914ced7",
   "metadata": {},
   "outputs": [
    {
     "name": "stdout",
     "output_type": "stream",
     "text": [
      "Help on built-in function round in module builtins:\n",
      "\n",
      "round(number, ndigits=None)\n",
      "    Round a number to a given precision in decimal digits.\n",
      "    \n",
      "    The return value is an integer if ndigits is omitted or None.  Otherwise\n",
      "    the return value has the same type as the number.  ndigits may be negative.\n",
      "\n"
     ]
    }
   ],
   "source": [
    "help(round)"
   ]
  },
  {
   "cell_type": "markdown",
   "id": "2f793f86",
   "metadata": {},
   "source": [
    "# divmod will do division and output will be(quotient,remainder)"
   ]
  },
  {
   "cell_type": "code",
   "execution_count": 18,
   "id": "ca884527",
   "metadata": {},
   "outputs": [],
   "source": [
    "x=divmod(30,7)"
   ]
  },
  {
   "cell_type": "code",
   "execution_count": 19,
   "id": "55ed7875",
   "metadata": {},
   "outputs": [
    {
     "name": "stdout",
     "output_type": "stream",
     "text": [
      "(4, 2)\n"
     ]
    }
   ],
   "source": [
    "print(x)"
   ]
  },
  {
   "cell_type": "code",
   "execution_count": 20,
   "id": "59cfb01f",
   "metadata": {},
   "outputs": [
    {
     "data": {
      "text/plain": [
       "tuple"
      ]
     },
     "execution_count": 20,
     "metadata": {},
     "output_type": "execute_result"
    }
   ],
   "source": [
    "type(x)"
   ]
  },
  {
   "cell_type": "code",
   "execution_count": 21,
   "id": "3447079f",
   "metadata": {},
   "outputs": [
    {
     "name": "stdout",
     "output_type": "stream",
     "text": [
      "2\n"
     ]
    }
   ],
   "source": [
    "print(x[1])"
   ]
  },
  {
   "cell_type": "markdown",
   "id": "dd9451ff",
   "metadata": {},
   "source": [
    "# Output will be in bool"
   ]
  },
  {
   "cell_type": "code",
   "execution_count": 22,
   "id": "804fa7ee",
   "metadata": {},
   "outputs": [
    {
     "name": "stdout",
     "output_type": "stream",
     "text": [
      "False\n"
     ]
    }
   ],
   "source": [
    "a = 5.7\n",
    "print(isinstance(a,int))"
   ]
  },
  {
   "cell_type": "code",
   "execution_count": 23,
   "id": "8375640f",
   "metadata": {},
   "outputs": [
    {
     "name": "stdout",
     "output_type": "stream",
     "text": [
      "True\n"
     ]
    }
   ],
   "source": [
    "print(isinstance('abc',(str,float,int)))"
   ]
  },
  {
   "cell_type": "code",
   "execution_count": 24,
   "id": "bfb9a2b8",
   "metadata": {},
   "outputs": [],
   "source": [
    "a= 5"
   ]
  },
  {
   "cell_type": "code",
   "execution_count": 25,
   "id": "d9ddeab8",
   "metadata": {},
   "outputs": [
    {
     "data": {
      "text/plain": [
       "int"
      ]
     },
     "execution_count": 25,
     "metadata": {},
     "output_type": "execute_result"
    }
   ],
   "source": [
    "type(a)"
   ]
  },
  {
   "cell_type": "markdown",
   "id": "95e198ba",
   "metadata": {},
   "source": [
    "# returns the power"
   ]
  },
  {
   "cell_type": "code",
   "execution_count": 26,
   "id": "7444fb9e",
   "metadata": {},
   "outputs": [
    {
     "name": "stdout",
     "output_type": "stream",
     "text": [
      "256\n"
     ]
    }
   ],
   "source": [
    "print(pow(2,8))"
   ]
  },
  {
   "cell_type": "markdown",
   "id": "999299dc",
   "metadata": {},
   "source": [
    "# pow(x,y,z) = ((x**y) %z)"
   ]
  },
  {
   "cell_type": "code",
   "execution_count": 27,
   "id": "1b4ce517",
   "metadata": {},
   "outputs": [
    {
     "name": "stdout",
     "output_type": "stream",
     "text": [
      "2\n"
     ]
    }
   ],
   "source": [
    "print(pow(2,4,7))"
   ]
  },
  {
   "cell_type": "code",
   "execution_count": 29,
   "id": "51a16730",
   "metadata": {},
   "outputs": [
    {
     "name": "stdout",
     "output_type": "stream",
     "text": [
      "4\n"
     ]
    }
   ],
   "source": [
    "print(pow(5,2,7))"
   ]
  },
  {
   "cell_type": "markdown",
   "id": "edef356e",
   "metadata": {},
   "source": [
    "# taking user input"
   ]
  },
  {
   "cell_type": "code",
   "execution_count": 4,
   "id": "e5aa076d",
   "metadata": {},
   "outputs": [
    {
     "name": "stdout",
     "output_type": "stream",
     "text": [
      "Enter your name: Joseph\n"
     ]
    }
   ],
   "source": [
    "name = input(\"Enter your name: \")"
   ]
  },
  {
   "cell_type": "code",
   "execution_count": 5,
   "id": "81126acf",
   "metadata": {},
   "outputs": [
    {
     "name": "stdout",
     "output_type": "stream",
     "text": [
      "Joseph\n"
     ]
    }
   ],
   "source": [
    "print(name)"
   ]
  },
  {
   "cell_type": "code",
   "execution_count": 6,
   "id": "85efef79",
   "metadata": {},
   "outputs": [
    {
     "name": "stdout",
     "output_type": "stream",
     "text": [
      "enter a value: 32\n"
     ]
    }
   ],
   "source": [
    "a = input(\"enter a value: \")\n"
   ]
  },
  {
   "cell_type": "code",
   "execution_count": 7,
   "id": "52859361",
   "metadata": {},
   "outputs": [
    {
     "name": "stdout",
     "output_type": "stream",
     "text": [
      "32\n"
     ]
    }
   ],
   "source": [
    "print(a)"
   ]
  },
  {
   "cell_type": "code",
   "execution_count": 8,
   "id": "5403a111",
   "metadata": {},
   "outputs": [
    {
     "name": "stdout",
     "output_type": "stream",
     "text": [
      "Enter your name:Joseph\n",
      "hello,Joseph for todays lecture \n"
     ]
    }
   ],
   "source": [
    "b = input(\"Enter your name:\")\n",
    "print(\"hello,\"+ b +\" for todays lecture \")"
   ]
  },
  {
   "cell_type": "markdown",
   "id": "6a8d76a6",
   "metadata": {},
   "source": [
    "# User defined functions"
   ]
  },
  {
   "cell_type": "code",
   "execution_count": 9,
   "id": "e7d37509",
   "metadata": {},
   "outputs": [],
   "source": [
    "def printsomething():\n",
    "    print(\"Good Job\")\n",
    "    print(\"We are studying functions\")"
   ]
  },
  {
   "cell_type": "code",
   "execution_count": 10,
   "id": "f8b87f1f",
   "metadata": {},
   "outputs": [
    {
     "name": "stdout",
     "output_type": "stream",
     "text": [
      "Good Job\n",
      "We are studying functions\n"
     ]
    }
   ],
   "source": [
    "printsomething()"
   ]
  },
  {
   "cell_type": "markdown",
   "id": "2bb9a401",
   "metadata": {},
   "source": [
    "# function with 1 argument"
   ]
  },
  {
   "cell_type": "code",
   "execution_count": 11,
   "id": "40cd4fee",
   "metadata": {},
   "outputs": [],
   "source": [
    "def printmsg(msg):\n",
    "    if isinstance(msg,str):\n",
    "        print(msg)\n",
    "    else:\n",
    "        print(\"Not a string\")"
   ]
  },
  {
   "cell_type": "code",
   "execution_count": 12,
   "id": "b6975b58",
   "metadata": {},
   "outputs": [
    {
     "name": "stdout",
     "output_type": "stream",
     "text": [
      "Vijal\n"
     ]
    }
   ],
   "source": [
    "printmsg(\"Vijal\")"
   ]
  },
  {
   "cell_type": "code",
   "execution_count": 17,
   "id": "8df276c7",
   "metadata": {},
   "outputs": [
    {
     "name": "stdout",
     "output_type": "stream",
     "text": [
      "Hithere@Joseph\n"
     ]
    }
   ],
   "source": [
    "printmsg(\"Hithere@Joseph\")"
   ]
  },
  {
   "cell_type": "code",
   "execution_count": 18,
   "id": "c96f4d49",
   "metadata": {},
   "outputs": [
    {
     "name": "stdout",
     "output_type": "stream",
     "text": [
      "Not a string\n"
     ]
    }
   ],
   "source": [
    "printmsg(34)"
   ]
  },
  {
   "cell_type": "code",
   "execution_count": 20,
   "id": "aca05ebc",
   "metadata": {},
   "outputs": [],
   "source": [
    "def mypower(a,b):\n",
    "    c=a**b\n",
    "    print(c)"
   ]
  },
  {
   "cell_type": "code",
   "execution_count": 21,
   "id": "b85c7999",
   "metadata": {},
   "outputs": [
    {
     "name": "stdout",
     "output_type": "stream",
     "text": [
      "81\n"
     ]
    }
   ],
   "source": [
    "mypower(3,4)"
   ]
  },
  {
   "cell_type": "code",
   "execution_count": null,
   "id": "59e7732e",
   "metadata": {},
   "outputs": [],
   "source": []
  }
 ],
 "metadata": {
  "kernelspec": {
   "display_name": "Python 3 (ipykernel)",
   "language": "python",
   "name": "python3"
  },
  "language_info": {
   "codemirror_mode": {
    "name": "ipython",
    "version": 3
   },
   "file_extension": ".py",
   "mimetype": "text/x-python",
   "name": "python",
   "nbconvert_exporter": "python",
   "pygments_lexer": "ipython3",
   "version": "3.11.5"
  }
 },
 "nbformat": 4,
 "nbformat_minor": 5
}
